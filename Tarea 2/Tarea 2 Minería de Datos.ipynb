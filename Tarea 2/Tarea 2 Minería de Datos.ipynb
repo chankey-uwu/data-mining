{
 "cells": [
  {
   "cell_type": "markdown",
   "id": "a4815f77",
   "metadata": {},
   "source": [
    "Pontificia Universidad Católica de Chile <br>\n",
    "Departamento de Ciencia de la Computación <br>\n",
    "IIC2433 - Minería de Datos <br>\n",
    "Primer Semestre 2024\n",
    "<br>\n",
    "\n",
    "<h1><center>Tarea 2: HAC, DBSCAN, HDBSCAN y GMM </center></h1>\n",
    "        Profesor: Marcelo Mendoza<br>\n",
    "        Fecha de entrega: 26 de abril\n"
   ]
  },
  {
   "cell_type": "markdown",
   "id": "76bd8444",
   "metadata": {},
   "source": [
    "## Indicaciones\n",
    "\n",
    "Deberás entregar **SOLO** el archivo .ipynb en el buzón respectivo en canvas.\n",
    "\n",
    "**IMPORTANTE**:\n",
    "- Se te dará puntaje tanto por código como por la manera en la que respondas las preguntas planteadas.\n",
    "- El notebook debe tener todas las celdas de código ejecutadas.\n",
    "- El carácter de esta tarea es **INDIVIDUAL**. Cualquier instancia de copia resultará en un 1,1 como nota de curso.\n",
    "\n",
    "---"
   ]
  },
  {
   "cell_type": "markdown",
   "id": "b643f80e",
   "metadata": {},
   "source": [
    "## Librerías"
   ]
  },
  {
   "cell_type": "code",
   "execution_count": 1,
   "id": "6cb05ac7",
   "metadata": {},
   "outputs": [],
   "source": [
    "##Importa acá las librerias que vayas a utilizar\n",
    "## De ser necesario, utiliza el comando !pip install a aquellas librerias o modulos que no se encuentren instalados, como puede ser HDBSCAN.\n",
    "import numpy as np\n",
    "import matplotlib.pyplot as plt\n",
    "import pandas as pd\n",
    "import seaborn as sns\n",
    "\n",
    "from random import random\n",
    "from matplotlib import pyplot as plt\n",
    "\n",
    "from scipy.cluster.hierarchy import dendrogram\n",
    "from sklearn import preprocessing\n",
    "from sklearn.preprocessing import OneHotEncoder, minmax_scale\n",
    "from sklearn.decomposition import PCA\n",
    "from sklearn import preprocessing\n",
    "from sklearn.neighbors import NearestNeighbors\n",
    "from sklearn.model_selection import train_test_split\n",
    "from sklearn.metrics import classification_report, silhouette_score\n",
    "from sklearn.cluster import AgglomerativeClustering\n",
    "from sklearn.cluster import DBSCAN, cluster_optics_dbscan\n",
    "# from sklearn.cluster import , HDBSCAN\n",
    "from sklearn.mixture import GaussianMixture"
   ]
  },
  {
   "cell_type": "markdown",
   "id": "bf5c9480",
   "metadata": {},
   "source": [
    "El siguiente codigo sirve para importar HDBSCAN en el caso de que les arroje error importar desde sklearn."
   ]
  },
  {
   "cell_type": "code",
   "execution_count": 2,
   "id": "b2acb4f2",
   "metadata": {},
   "outputs": [],
   "source": [
    "from hdbscan import HDBSCAN"
   ]
  },
  {
   "cell_type": "markdown",
   "id": "42b2e7ca",
   "metadata": {},
   "source": [
    "# Introducción"
   ]
  },
  {
   "cell_type": "markdown",
   "id": "a7422b03",
   "metadata": {},
   "source": [
    "El conjunto de datos correspnde a características extraidas de imagenes de distintos tipos de frijoles secos, los cuales presentan distintas formas, figuras, tipos y estructuras. Según esta premisa, el objetivo de la tarea es identificar en qué consiste el dataset entregado para predecir el tipo de frijol al cual corresponde cada dato (dado por la columna \"Class\") por medio del uso de HAC, DBSCAN, HDBSCAN y GMM. \n",
    "\n",
    "En esta tarea deberás trabajar con el dataset de Dry Bean que puedes descargar de [Kaggle](https://www.kaggle.com/datasets/nimapourmoradi/dry-bean-dataset-classification) o desde canvas."
   ]
  },
  {
   "cell_type": "markdown",
   "id": "46d379d2",
   "metadata": {},
   "source": [
    "# Parte 1: Carga y Preprocesamiento de Datos (9 puntos)"
   ]
  },
  {
   "cell_type": "markdown",
   "id": "ee3e1cc5",
   "metadata": {},
   "source": [
    "En esta primera parte se debe cargar el dataset y luego describir el comportamiento de algunas variables de interés. Posteriormente, debe realizar el proceso de normalización de los datos."
   ]
  },
  {
   "cell_type": "markdown",
   "id": "447b6699",
   "metadata": {},
   "source": [
    "### 1.1 Carga de datos (1 puntos)"
   ]
  },
  {
   "cell_type": "code",
   "execution_count": 3,
   "id": "702a4649",
   "metadata": {},
   "outputs": [],
   "source": [
    "df = pd.read_csv('dry_bean_dataset.csv')"
   ]
  },
  {
   "cell_type": "markdown",
   "id": "f60cbb26",
   "metadata": {},
   "source": [
    "### 1.2 Descripcion del Dataset (5 puntos)"
   ]
  },
  {
   "cell_type": "markdown",
   "id": "d0e69aea",
   "metadata": {},
   "source": [
    "#### 1.2.1 Describa brevemente cuantas columnas tiene el dataset y en que consisten las columna del dataset entregado (1 puntos)"
   ]
  },
  {
   "cell_type": "markdown",
   "id": "e6c43972",
   "metadata": {},
   "source": [
    "**Respuesta:**"
   ]
  },
  {
   "cell_type": "code",
   "execution_count": 5,
   "id": "870a3bb6",
   "metadata": {},
   "outputs": [
    {
     "name": "stdout",
     "output_type": "stream",
     "text": [
      "El dataset contiene 13611 filas y 17 columnas.\n"
     ]
    }
   ],
   "source": [
    "print(f'El dataset contiene {df.shape[0]} filas y {df.shape[1]} columnas.')"
   ]
  },
  {
   "cell_type": "markdown",
   "id": "bdb1bcbf",
   "metadata": {},
   "source": [
    "Según la información de Kaggle las descripciones de las columnas son:\n",
    "- Area: cantidad de pixeles de la imagen del poroto.\n",
    "- Perimeter: largo del borde del poroto.\n",
    "- MajorAxisLength: largo de la mayor línea que puede ser trazada de fin a fin en la imagen del poroto.\n",
    "- MinorAxisLength: largo de la menor línea que puede ser trazada de fin a fin en la imagen del poroto.\n",
    "- AspectRation: la relación entre L e I (no se menciona qué es L o I, pero supongo que es largo e imagen).\n",
    "- Eccentricity: excentricidad de la elipse.\n",
    "- ConvexArea: número de pixeles del polígono de menor tamaño convexo.\n",
    "- EquivDiameter: diámetro del círculo con mismo área que la imagen del poroto.\n",
    "- Extent: ratio de pixeles en el cuadro delimitador y el área de la imagen del poroto.\n",
    "- Solidity: "
   ]
  },
  {
   "cell_type": "markdown",
   "id": "0cea5024",
   "metadata": {},
   "source": [
    "#### 1.2.2 ¿Es posible en este dataset eliminar columnas sin afectar de manera significativa los datos? ¿Por qué? (2 puntos)"
   ]
  },
  {
   "cell_type": "markdown",
   "id": "bb7bf409",
   "metadata": {},
   "source": [
    "**Respuesta:**"
   ]
  },
  {
   "cell_type": "markdown",
   "id": "ab3a23e9",
   "metadata": {},
   "source": [
    "#### 1.2.3 ¿Cuantos tipos de frijoles hay? ¿Qué puedes observar sobre la cantidad de frijoles por clase? ¿Existe un desbalance de clases? (2 puntos)"
   ]
  },
  {
   "cell_type": "markdown",
   "id": "843071c3",
   "metadata": {},
   "source": [
    "**Respuesta:**"
   ]
  },
  {
   "cell_type": "markdown",
   "id": "b29f3f87",
   "metadata": {},
   "source": [
    "### 1.3 Determinación de valores nulos (1 punto)"
   ]
  },
  {
   "cell_type": "markdown",
   "id": "c8aa52d2",
   "metadata": {},
   "source": [
    "Determina si existen datos y/o valores nulos presentes en el dataset. En caso de que existan, realiza el tratamiento pertinente."
   ]
  },
  {
   "cell_type": "markdown",
   "id": "b1e9cded",
   "metadata": {},
   "source": [
    "**Respuesta:**"
   ]
  },
  {
   "cell_type": "markdown",
   "id": "4c56b96e",
   "metadata": {},
   "source": [
    "### 1.4 Manejo del Dataset (2 puntos)\n",
    "\n",
    "Normaliza los valores de las columnas del dataset. ¿Por qué esto es importante para el análisis?"
   ]
  },
  {
   "cell_type": "markdown",
   "id": "34031921",
   "metadata": {},
   "source": [
    "**Respuesta**"
   ]
  },
  {
   "cell_type": "markdown",
   "id": "9ba5fe32",
   "metadata": {},
   "source": [
    "# Parte 2: HAC (5 puntos)"
   ]
  },
  {
   "cell_type": "markdown",
   "id": "a88e17c3",
   "metadata": {},
   "source": [
    "### 2.1 Reliza un dendograma sin clusters y con distancia threshold igual a 0 para visualizar los datos (1 punto)"
   ]
  },
  {
   "cell_type": "markdown",
   "id": "0dc5715a",
   "metadata": {},
   "source": [
    "### 2.2 Realiza los Clustering de Agrupación Jerarquica (HAC) para cada distancia de clustering aglomerativo (linkage), prueba utilizando número entre 2 y 10. Calcula el Silhouette para ver cual funcionó mejor y explica el por qué de los resultados. (1.5 puntos)\n"
   ]
  },
  {
   "cell_type": "markdown",
   "id": "da7f4c75",
   "metadata": {},
   "source": [
    "### 2.3 Ahora, realiza los Clustering de Agrupación Jerarquica (HAC) para cada tipo de linkage. Calcula el Silhouette para ver cual funcionó mejor y explica el por qué de los resultados, mencionando en manera funciona cada linkage. (1.5 puntos)"
   ]
  },
  {
   "cell_type": "markdown",
   "id": "31f43ba2",
   "metadata": {},
   "source": [
    "### 2.4 Grafica los clusters utilizando un PCA de 2 dimensiones de los datos. (1 punto)"
   ]
  },
  {
   "cell_type": "markdown",
   "id": "5d8826e0",
   "metadata": {},
   "source": [
    "Con el análisis realizado, ¿Cuál es la importancia del criterio de vinculación al momento de agrupar los datos? Pruebe ahora utilizando solamente dos clusters y compare los graficos."
   ]
  },
  {
   "cell_type": "markdown",
   "id": "4571b0f0",
   "metadata": {},
   "source": [
    "# Parte 3: DBSCAN y HDBSCAN (15 puntos)"
   ]
  },
  {
   "cell_type": "markdown",
   "id": "ff77645e",
   "metadata": {},
   "source": [
    "### 3.1.- DBSCAN\n",
    "\n",
    "Utilizando DBSCAN, itera sobre valores de eps entre 0.25 y 2, con un salto de 0.25 por iteracion. Ademas, itera sobre el numero minimo de muestras, probando con 1, 2, 3 y 4. (3 puntos)"
   ]
  },
  {
   "cell_type": "markdown",
   "id": "0e56e1cb",
   "metadata": {},
   "source": [
    "**RESPUESTA:**"
   ]
  },
  {
   "cell_type": "markdown",
   "id": "df5c7121",
   "metadata": {},
   "source": [
    "#### 3.1.2 Con la informacion de los parametros anterior, calcula cual es el numero de clusters optimo para el modelo DBSCAN. (1.5 puntos)"
   ]
  },
  {
   "cell_type": "markdown",
   "id": "2c81dda3",
   "metadata": {},
   "source": [
    "**RESPUESTA:**"
   ]
  },
  {
   "cell_type": "markdown",
   "id": "8188c92b",
   "metadata": {},
   "source": [
    "#### 3.1.3 Determine tambien el valor optimo del parametro `eps` y `min_samples` (0.5 puntos)"
   ]
  },
  {
   "cell_type": "markdown",
   "id": "6603d673",
   "metadata": {},
   "source": [
    "**RESPUESTA:**"
   ]
  },
  {
   "cell_type": "markdown",
   "id": "76b32057",
   "metadata": {},
   "source": [
    "#### 3.1.41 Obtenga el numero de clusters utilizando los parametros optimos encontrados. Explique porque podria haber encontrado ese valor, el cual se puede o no ajustar al numero de clases en el dataset. (1 puntos)"
   ]
  },
  {
   "cell_type": "markdown",
   "id": "964a38b2",
   "metadata": {},
   "source": [
    "**RESPUESTA:**"
   ]
  },
  {
   "cell_type": "markdown",
   "id": "da53b25b",
   "metadata": {},
   "source": [
    "Se espera un analisis de ajuste de datos a clusters contra las clases. Puntaje por analisis y justificacion."
   ]
  },
  {
   "cell_type": "markdown",
   "id": "8b01a31b",
   "metadata": {},
   "source": [
    "### 3.2.- HDBSCAN\n",
    "\n",
    "Utilizando HDSCAN, cree un modelo con el `cluster_selection_epsilon` igual al caso de DBSCAN y determine el numero de clusters. Itere sobre el min_cluster_size para encontrar el mejor silhoutte score. Compare el resultado con DBSCAN.  (3 puntos)"
   ]
  },
  {
   "cell_type": "markdown",
   "id": "20d9a60d",
   "metadata": {},
   "source": [
    "**RESPUESTA:**"
   ]
  },
  {
   "cell_type": "markdown",
   "id": "086e1163",
   "metadata": {},
   "source": [
    "#### 3.2.2 Grafique los clusters utilizando PCA de 2 dimensiones. (1 punto)"
   ]
  },
  {
   "cell_type": "markdown",
   "id": "15bb1a56",
   "metadata": {},
   "source": [
    "**RESPUESTA:**"
   ]
  },
  {
   "cell_type": "markdown",
   "id": "27c50ca0",
   "metadata": {},
   "source": [
    "¿Que representa cada cluster?"
   ]
  },
  {
   "cell_type": "markdown",
   "id": "f67d53bf",
   "metadata": {},
   "source": [
    "**RESPUESTA:**"
   ]
  },
  {
   "cell_type": "markdown",
   "id": "3455eb3f",
   "metadata": {},
   "source": [
    "### 3.4 Preguntas teoricas sobre HAC, DBSCAN y HDBSCAN (5 puntos)"
   ]
  },
  {
   "cell_type": "markdown",
   "id": "2e5d2e0c",
   "metadata": {},
   "source": [
    "#### 3.4.1 En tus palabras, ¿Como funciona el Agglomerative Clustering?"
   ]
  },
  {
   "cell_type": "markdown",
   "id": "bc49f141",
   "metadata": {},
   "source": [
    "**RESPUESTA:**"
   ]
  },
  {
   "cell_type": "markdown",
   "id": "4b86cbf5",
   "metadata": {},
   "source": [
    "#### 3.4.2 Explique que representa un dendograma, mencionando como las ramas principales podrían significar las clases del datset."
   ]
  },
  {
   "cell_type": "markdown",
   "id": "d0a99d8e",
   "metadata": {},
   "source": [
    "**RESPUESTA:**"
   ]
  },
  {
   "cell_type": "markdown",
   "id": "c67219d4",
   "metadata": {},
   "source": [
    "#### 3.4.3 En el contexto del modelo DBSCAN, ¿Que es un core sample? ¿Que podria representar un core sample en terminos de un dato en el dataset? Apoyese en la clases y sus caracteristicas."
   ]
  },
  {
   "cell_type": "markdown",
   "id": "722a4711",
   "metadata": {},
   "source": [
    "**RESPUESTA:**"
   ]
  },
  {
   "cell_type": "markdown",
   "id": "c0683a7b",
   "metadata": {},
   "source": [
    "#### 3.4.4 En el modelo de DBSCAN se iteran sobre distintos parametros; eps y min_samples. ¿Que representan estos parametros?"
   ]
  },
  {
   "cell_type": "markdown",
   "id": "3a0973ad",
   "metadata": {},
   "source": [
    "**RESPUESTA:**"
   ]
  },
  {
   "cell_type": "markdown",
   "id": "e279d3cc",
   "metadata": {},
   "source": [
    "#### 3.4.5 ¿Cual es la diferencia entre DBSCAN y HDBSCAN? ¿Que beneficios existen de usar un modelo sobre el otro?"
   ]
  },
  {
   "cell_type": "markdown",
   "id": "96815fa4",
   "metadata": {},
   "source": [
    "**RESPUESTA:**"
   ]
  },
  {
   "cell_type": "markdown",
   "id": "e486f93c",
   "metadata": {},
   "source": [
    "# Parte 4: GMM (28 puntos)"
   ]
  },
  {
   "cell_type": "markdown",
   "id": "765c4802",
   "metadata": {},
   "source": [
    "### 4.1 Uso de PCA y visualización general (5 puntos)"
   ]
  },
  {
   "cell_type": "markdown",
   "id": "3a6e3747",
   "metadata": {},
   "source": [
    "#### Utilizando PCA de dos dimensiones, colorea y visualiza los distintos tipos de frijoles (Class) presentes en el dataset. ¿Se observan claramente los datos agrupados por clase?"
   ]
  },
  {
   "cell_type": "markdown",
   "id": "831edeb0",
   "metadata": {},
   "source": [
    "**RESPUESTA:**"
   ]
  },
  {
   "cell_type": "markdown",
   "id": "f5c140a6",
   "metadata": {},
   "source": [
    "### 4.2 Retención de varianza (3 puntos)"
   ]
  },
  {
   "cell_type": "markdown",
   "id": "de7c0014",
   "metadata": {},
   "source": [
    "#### Encuentre el numero mínimo de componentes para usar en PCA de tal manera que se mantenga un 95% de varianza. (4 puntos)"
   ]
  },
  {
   "cell_type": "markdown",
   "id": "ee9dd1d0",
   "metadata": {},
   "source": [
    "### 4.3 Encontrar el número de componentes ideal (4 puntos)"
   ]
  },
  {
   "cell_type": "markdown",
   "id": "9dbf3348",
   "metadata": {},
   "source": [
    "#### Determina cuantas componentes se necesitan de forma ideal para la mezcla de gaussianas usando el criterio de información de Akaike (AIC)."
   ]
  },
  {
   "cell_type": "markdown",
   "id": "0b5ee157",
   "metadata": {},
   "source": [
    "**RESPUESTA**"
   ]
  },
  {
   "cell_type": "markdown",
   "id": "c6652e3e",
   "metadata": {},
   "source": [
    "### 4.4 Uso de función clusterize (6 puntos)"
   ]
  },
  {
   "cell_type": "markdown",
   "id": "b82e123d",
   "metadata": {},
   "source": [
    "#### Codifica una función que utiliza el modelo `GaussianMixture` de sklearn para separar las clases en `n` grupos. Debes retornar un dataframe que contenga la clasificación. Corre el método con el valor de componentes encontrado en la sección anterior y con el valor de componentes `n_components=7` y retorna el silhouette score resultante para cada clase de cada modelo distinto. \n",
    "\n",
    "#### Probablemente, un modelo presentará un mejor score por sobre el otro, explica el por qué sucede aquello. "
   ]
  },
  {
   "cell_type": "markdown",
   "id": "3c3df732",
   "metadata": {},
   "source": [
    "**Respuesta**"
   ]
  },
  {
   "cell_type": "markdown",
   "id": "9ce9c30f",
   "metadata": {},
   "source": [
    "### 4.5 Evaluación del modelo GMM (6 puntos)"
   ]
  },
  {
   "cell_type": "markdown",
   "id": "e75673d1",
   "metadata": {},
   "source": [
    "**Para esta sección, utilize el modelo con mejor silhouette score obtenido.** "
   ]
  },
  {
   "cell_type": "markdown",
   "id": "f3e16d99",
   "metadata": {},
   "source": [
    "#### 4.5.1 Con respecto a los clusters formados por el modelo ¿Existe alguna especie repartida en más de dos clusters? (2 puntos)"
   ]
  },
  {
   "cell_type": "markdown",
   "id": "112aaf58",
   "metadata": {},
   "source": [
    "#### 4.5.2 Determine la especie predominante en cada cluster según el valor más repetido por grupo. Con esto, calcule la precisión de cada especie al ser clasificada. ¿El modelo GMM tuvo buenos resultados? (4 puntos)\n",
    "\n",
    "(Recuerde que para calcular la precisión, se puede usar la cantidad de especies encontradas en el cluster dividido en la cantidad total u optima de especies a encontrar en el cluster)"
   ]
  },
  {
   "cell_type": "markdown",
   "id": "60b4e710",
   "metadata": {},
   "source": [
    "### 4.6 Preguntas teoricas sobre GMM (4 puntos)"
   ]
  },
  {
   "cell_type": "markdown",
   "id": "f12ffe55",
   "metadata": {},
   "source": [
    "Responde brevemente a las siguientes preguntas relacionadas con GMM."
   ]
  },
  {
   "cell_type": "markdown",
   "id": "0eb2da64",
   "metadata": {},
   "source": [
    "#### 4.6.1 ¿Por qué un desbalance de clases puede ser perjudicial al momento de identificar clusters? Relacione esto con el uso de GMM para clasificar. "
   ]
  },
  {
   "cell_type": "markdown",
   "id": "5fa2016c",
   "metadata": {},
   "source": [
    "**Respuesta**"
   ]
  },
  {
   "cell_type": "markdown",
   "id": "8af4faed",
   "metadata": {},
   "source": [
    "#### 4.6.2 Explica qué es Akaike Information Criterion (AIC) ¿Existe alguno que se ajuste mejor a este dataset y al uso de GMM? Justifique su respuesta."
   ]
  },
  {
   "cell_type": "markdown",
   "id": "e8617232",
   "metadata": {},
   "source": [
    "**Respuesta**"
   ]
  },
  {
   "cell_type": "markdown",
   "id": "7cf0c45a",
   "metadata": {},
   "source": [
    "#### 4.6.3 ¿Qué es un modelo Gaussian Mixtures? ¿En qué escenarios funciona bien y en qué mal? Refierete a esto según el dataset."
   ]
  },
  {
   "cell_type": "markdown",
   "id": "7d21655e",
   "metadata": {},
   "source": [
    "**Respuesta**"
   ]
  },
  {
   "cell_type": "markdown",
   "id": "efb18733",
   "metadata": {},
   "source": [
    "#### 4.6.4 ¿Qué es el Silhouette Score? ¿Cual es la importancia de este al momento de interpretar el funcionamiento de un modelo?"
   ]
  },
  {
   "cell_type": "markdown",
   "id": "51aadb6b",
   "metadata": {},
   "source": [
    "**Respuesta**"
   ]
  },
  {
   "cell_type": "markdown",
   "id": "e037db95",
   "metadata": {},
   "source": [
    "# Parte 5: Comparación y eficiencia (3 puntos)"
   ]
  },
  {
   "cell_type": "markdown",
   "id": "c46f6a3d",
   "metadata": {},
   "source": [
    "#### 5.1 ¿Cuál de los métodos de clustering resultó ser el más eficiente entre HAC, DBSCAN, HDBSCAN y GMM? Da una explicación de por qué se puede deber el resultado."
   ]
  },
  {
   "cell_type": "markdown",
   "id": "6c83bb6d",
   "metadata": {},
   "source": [
    "**Respuesta**"
   ]
  }
 ],
 "metadata": {
  "kernelspec": {
   "display_name": "Python 3 (ipykernel)",
   "language": "python",
   "name": "python3"
  },
  "language_info": {
   "codemirror_mode": {
    "name": "ipython",
    "version": 3
   },
   "file_extension": ".py",
   "mimetype": "text/x-python",
   "name": "python",
   "nbconvert_exporter": "python",
   "pygments_lexer": "ipython3",
   "version": "3.11.5"
  }
 },
 "nbformat": 4,
 "nbformat_minor": 5
}
