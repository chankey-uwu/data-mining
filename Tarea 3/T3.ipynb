{
  "cells": [
    {
      "cell_type": "markdown",
      "metadata": {
        "id": "btF0259fDILy"
      },
      "source": [
        "Pontificia Universidad Católica de Chile <br>\n",
        "Departamento de Ciencia de la Computación <br>\n",
        "IIC2433 - Minería de Datos\n",
        "<br>\n",
        "\n",
        "<center>\n",
        "    <h2> Tarea 3 </h2>\n",
        "    <h1> MLP, Regresión Logística y Redes Bayesianas</h1>\n",
        "    <p>\n",
        "        Profesor Marcelo Mendoza<br>\n",
        "        Primer Semestre 2024<br>    \n",
        "        Fecha de entrega: 17 de mayo\n",
        "    </p>\n",
        "    <br>\n",
        "</center>\n",
        "\n",
        "<br>\n",
        "\n",
        "---"
      ]
    },
    {
      "cell_type": "markdown",
      "metadata": {
        "id": "zX-PP1iFDIL0"
      },
      "source": [
        "## Indicaciones\n",
        "\n",
        "Deberás entregar **SOLO** el archivo .ipynb en el buzón respectivo en canvas.\n",
        "\n",
        "**IMPORTANTE**:\n",
        "- Se te dará puntaje tanto por código como por la manera en la que respondas las preguntas planteadas. Es decir, si tienes un código perfecto pero este no es explicado o no se responden preguntas asociadas a este, no se tendrá el puntaje completo.\n",
        "- El notebook debe tener todas las celdas de código ejecutadas. Cualquier notebook que no las tenga no podrá ser corregido.\n",
        "- El carácter de esta tarea es **INDIVIDUAL**. Cualquier instancia de copia resultará en un 1,1 como nota de curso.\n",
        "\n",
        "---"
      ]
    },
    {
      "cell_type": "markdown",
      "metadata": {
        "id": "L-AF97R4DIL0"
      },
      "source": [
        "## Librerías"
      ]
    },
    {
      "cell_type": "markdown",
      "metadata": {
        "id": "pdLbqqXoDIL0"
      },
      "source": [
        "A continuación se encuentran las librerías necesarias para elaborar la tarea. Recuerda ejecutar la celda antes de comenzar."
      ]
    },
    {
      "cell_type": "code",
      "execution_count": 2,
      "metadata": {
        "colab": {
          "base_uri": "https://localhost:8080/"
        },
        "id": "zT_GbvEgENoM",
        "outputId": "cc93dd79-0dc9-4814-eea1-0b1acbd26773"
      },
      "outputs": [
        {
          "name": "stdout",
          "output_type": "stream",
          "text": [
            "Collecting pgmpy\n",
            "  Downloading pgmpy-0.1.25-py3-none-any.whl (2.0 MB)\n",
            "\u001b[2K     \u001b[90m━━━━━━━━━━━━━━━━━━━━━━━━━━━━━━━━━━━━━━━━\u001b[0m \u001b[32m2.0/2.0 MB\u001b[0m \u001b[31m10.4 MB/s\u001b[0m eta \u001b[36m0:00:00\u001b[0m\n",
            "\u001b[?25hRequirement already satisfied: networkx in /usr/local/lib/python3.10/dist-packages (from pgmpy) (3.3)\n",
            "Requirement already satisfied: numpy in /usr/local/lib/python3.10/dist-packages (from pgmpy) (1.25.2)\n",
            "Requirement already satisfied: scipy in /usr/local/lib/python3.10/dist-packages (from pgmpy) (1.11.4)\n",
            "Requirement already satisfied: scikit-learn in /usr/local/lib/python3.10/dist-packages (from pgmpy) (1.2.2)\n",
            "Requirement already satisfied: pandas in /usr/local/lib/python3.10/dist-packages (from pgmpy) (2.0.3)\n",
            "Requirement already satisfied: pyparsing in /usr/local/lib/python3.10/dist-packages (from pgmpy) (3.1.2)\n",
            "Requirement already satisfied: torch in /usr/local/lib/python3.10/dist-packages (from pgmpy) (2.2.1+cu121)\n",
            "Requirement already satisfied: statsmodels in /usr/local/lib/python3.10/dist-packages (from pgmpy) (0.14.2)\n",
            "Requirement already satisfied: tqdm in /usr/local/lib/python3.10/dist-packages (from pgmpy) (4.66.4)\n",
            "Requirement already satisfied: joblib in /usr/local/lib/python3.10/dist-packages (from pgmpy) (1.4.2)\n",
            "Requirement already satisfied: opt-einsum in /usr/local/lib/python3.10/dist-packages (from pgmpy) (3.3.0)\n",
            "Requirement already satisfied: python-dateutil>=2.8.2 in /usr/local/lib/python3.10/dist-packages (from pandas->pgmpy) (2.8.2)\n",
            "Requirement already satisfied: pytz>=2020.1 in /usr/local/lib/python3.10/dist-packages (from pandas->pgmpy) (2023.4)\n",
            "Requirement already satisfied: tzdata>=2022.1 in /usr/local/lib/python3.10/dist-packages (from pandas->pgmpy) (2024.1)\n",
            "Requirement already satisfied: threadpoolctl>=2.0.0 in /usr/local/lib/python3.10/dist-packages (from scikit-learn->pgmpy) (3.5.0)\n",
            "Requirement already satisfied: patsy>=0.5.6 in /usr/local/lib/python3.10/dist-packages (from statsmodels->pgmpy) (0.5.6)\n",
            "Requirement already satisfied: packaging>=21.3 in /usr/local/lib/python3.10/dist-packages (from statsmodels->pgmpy) (24.0)\n",
            "Requirement already satisfied: filelock in /usr/local/lib/python3.10/dist-packages (from torch->pgmpy) (3.14.0)\n",
            "Requirement already satisfied: typing-extensions>=4.8.0 in /usr/local/lib/python3.10/dist-packages (from torch->pgmpy) (4.11.0)\n",
            "Requirement already satisfied: sympy in /usr/local/lib/python3.10/dist-packages (from torch->pgmpy) (1.12)\n",
            "Requirement already satisfied: jinja2 in /usr/local/lib/python3.10/dist-packages (from torch->pgmpy) (3.1.4)\n",
            "Requirement already satisfied: fsspec in /usr/local/lib/python3.10/dist-packages (from torch->pgmpy) (2023.6.0)\n",
            "Collecting nvidia-cuda-nvrtc-cu12==12.1.105 (from torch->pgmpy)\n",
            "  Using cached nvidia_cuda_nvrtc_cu12-12.1.105-py3-none-manylinux1_x86_64.whl (23.7 MB)\n",
            "Collecting nvidia-cuda-runtime-cu12==12.1.105 (from torch->pgmpy)\n",
            "  Using cached nvidia_cuda_runtime_cu12-12.1.105-py3-none-manylinux1_x86_64.whl (823 kB)\n",
            "Collecting nvidia-cuda-cupti-cu12==12.1.105 (from torch->pgmpy)\n",
            "  Using cached nvidia_cuda_cupti_cu12-12.1.105-py3-none-manylinux1_x86_64.whl (14.1 MB)\n",
            "Collecting nvidia-cudnn-cu12==8.9.2.26 (from torch->pgmpy)\n",
            "  Using cached nvidia_cudnn_cu12-8.9.2.26-py3-none-manylinux1_x86_64.whl (731.7 MB)\n",
            "Collecting nvidia-cublas-cu12==12.1.3.1 (from torch->pgmpy)\n",
            "  Using cached nvidia_cublas_cu12-12.1.3.1-py3-none-manylinux1_x86_64.whl (410.6 MB)\n",
            "Collecting nvidia-cufft-cu12==11.0.2.54 (from torch->pgmpy)\n",
            "  Using cached nvidia_cufft_cu12-11.0.2.54-py3-none-manylinux1_x86_64.whl (121.6 MB)\n",
            "Collecting nvidia-curand-cu12==10.3.2.106 (from torch->pgmpy)\n",
            "  Using cached nvidia_curand_cu12-10.3.2.106-py3-none-manylinux1_x86_64.whl (56.5 MB)\n",
            "Collecting nvidia-cusolver-cu12==11.4.5.107 (from torch->pgmpy)\n",
            "  Using cached nvidia_cusolver_cu12-11.4.5.107-py3-none-manylinux1_x86_64.whl (124.2 MB)\n",
            "Collecting nvidia-cusparse-cu12==12.1.0.106 (from torch->pgmpy)\n",
            "  Using cached nvidia_cusparse_cu12-12.1.0.106-py3-none-manylinux1_x86_64.whl (196.0 MB)\n",
            "Collecting nvidia-nccl-cu12==2.19.3 (from torch->pgmpy)\n",
            "  Using cached nvidia_nccl_cu12-2.19.3-py3-none-manylinux1_x86_64.whl (166.0 MB)\n",
            "Collecting nvidia-nvtx-cu12==12.1.105 (from torch->pgmpy)\n",
            "  Using cached nvidia_nvtx_cu12-12.1.105-py3-none-manylinux1_x86_64.whl (99 kB)\n",
            "Requirement already satisfied: triton==2.2.0 in /usr/local/lib/python3.10/dist-packages (from torch->pgmpy) (2.2.0)\n",
            "Collecting nvidia-nvjitlink-cu12 (from nvidia-cusolver-cu12==11.4.5.107->torch->pgmpy)\n",
            "  Using cached nvidia_nvjitlink_cu12-12.4.127-py3-none-manylinux2014_x86_64.whl (21.1 MB)\n",
            "Requirement already satisfied: six in /usr/local/lib/python3.10/dist-packages (from patsy>=0.5.6->statsmodels->pgmpy) (1.16.0)\n",
            "Requirement already satisfied: MarkupSafe>=2.0 in /usr/local/lib/python3.10/dist-packages (from jinja2->torch->pgmpy) (2.1.5)\n",
            "Requirement already satisfied: mpmath>=0.19 in /usr/local/lib/python3.10/dist-packages (from sympy->torch->pgmpy) (1.3.0)\n",
            "Installing collected packages: nvidia-nvtx-cu12, nvidia-nvjitlink-cu12, nvidia-nccl-cu12, nvidia-curand-cu12, nvidia-cufft-cu12, nvidia-cuda-runtime-cu12, nvidia-cuda-nvrtc-cu12, nvidia-cuda-cupti-cu12, nvidia-cublas-cu12, nvidia-cusparse-cu12, nvidia-cudnn-cu12, nvidia-cusolver-cu12, pgmpy\n",
            "Successfully installed nvidia-cublas-cu12-12.1.3.1 nvidia-cuda-cupti-cu12-12.1.105 nvidia-cuda-nvrtc-cu12-12.1.105 nvidia-cuda-runtime-cu12-12.1.105 nvidia-cudnn-cu12-8.9.2.26 nvidia-cufft-cu12-11.0.2.54 nvidia-curand-cu12-10.3.2.106 nvidia-cusolver-cu12-11.4.5.107 nvidia-cusparse-cu12-12.1.0.106 nvidia-nccl-cu12-2.19.3 nvidia-nvjitlink-cu12-12.4.127 nvidia-nvtx-cu12-12.1.105 pgmpy-0.1.25\n"
          ]
        }
      ],
      "source": [
        "!pip install pgmpy"
      ]
    },
    {
      "cell_type": "code",
      "execution_count": 43,
      "metadata": {
        "id": "6lXFIWAVDIL1"
      },
      "outputs": [],
      "source": [
        "import pandas as pd\n",
        "from keras.utils import to_categorical\n",
        "from sklearn.preprocessing import MinMaxScaler\n",
        "from sklearn.model_selection import train_test_split\n",
        "from matplotlib import pyplot as plt\n",
        "from sklearn.linear_model import LogisticRegression\n",
        "from matplotlib import pyplot as plt\n",
        "from sklearn.neighbors import LocalOutlierFactor\n",
        "from keras.models import Sequential\n",
        "from keras.layers import Dense\n",
        "from sklearn.metrics import classification_report\n",
        "from sklearn.metrics import confusion_matrix\n",
        "from typing import List\n",
        "import seaborn as sns\n",
        "from pgmpy.models import BayesianNetwork\n",
        "from pgmpy.estimators import BayesianEstimator\n",
        "from pgmpy.estimators import HillClimbSearch\n",
        "from pgmpy.estimators import BicScore\n",
        "from pgmpy.inference import VariableElimination"
      ]
    },
    {
      "cell_type": "markdown",
      "metadata": {
        "id": "7BRffwgYDIL1"
      },
      "source": [
        "## Parte 1: Carga y Preprocesamiento de Datos (10 Pts.)"
      ]
    },
    {
      "cell_type": "markdown",
      "metadata": {
        "id": "zrlKIg0FDIL1"
      },
      "source": [
        "Para esta tarea, deberás utilizar el dataset [Mushroom Dataset (Binary Classification)](https://www.kaggle.com/datasets/prishasawhney/mushroom-dataset/data) que se puede encontrar en Kaggle."
      ]
    },
    {
      "cell_type": "markdown",
      "metadata": {
        "id": "UO2cZVizDIL1"
      },
      "source": [
        "### 1.1 Carga de Datos"
      ]
    },
    {
      "cell_type": "markdown",
      "metadata": {
        "id": "UJvQR9eyDIL2"
      },
      "source": [
        "Descarga el dataset y cárgalo a continuación en un dataframe de pandas."
      ]
    },
    {
      "cell_type": "code",
      "execution_count": 6,
      "metadata": {
        "colab": {
          "base_uri": "https://localhost:8080/",
          "height": 206
        },
        "id": "37sFm2kaDIL2",
        "outputId": "a8d98601-6e95-4aa1-d7b5-c2dee0fec25a"
      },
      "outputs": [
        {
          "data": {
            "application/vnd.google.colaboratory.intrinsic+json": {
              "summary": "{\n  \"name\": \"df\",\n  \"rows\": 54035,\n  \"fields\": [\n    {\n      \"column\": \"cap-diameter\",\n      \"properties\": {\n        \"dtype\": \"number\",\n        \"std\": 359,\n        \"min\": 0,\n        \"max\": 1891,\n        \"num_unique_values\": 1847,\n        \"samples\": [\n          11,\n          1677,\n          44\n        ],\n        \"semantic_type\": \"\",\n        \"description\": \"\"\n      }\n    },\n    {\n      \"column\": \"cap-shape\",\n      \"properties\": {\n        \"dtype\": \"number\",\n        \"std\": 2,\n        \"min\": 0,\n        \"max\": 6,\n        \"num_unique_values\": 7,\n        \"samples\": [\n          2,\n          6,\n          5\n        ],\n        \"semantic_type\": \"\",\n        \"description\": \"\"\n      }\n    },\n    {\n      \"column\": \"gill-attachment\",\n      \"properties\": {\n        \"dtype\": \"number\",\n        \"std\": 2,\n        \"min\": 0,\n        \"max\": 6,\n        \"num_unique_values\": 7,\n        \"samples\": [\n          2,\n          0,\n          4\n        ],\n        \"semantic_type\": \"\",\n        \"description\": \"\"\n      }\n    },\n    {\n      \"column\": \"gill-color\",\n      \"properties\": {\n        \"dtype\": \"number\",\n        \"std\": 3,\n        \"min\": 0,\n        \"max\": 11,\n        \"num_unique_values\": 12,\n        \"samples\": [\n          4,\n          6,\n          10\n        ],\n        \"semantic_type\": \"\",\n        \"description\": \"\"\n      }\n    },\n    {\n      \"column\": \"stem-height\",\n      \"properties\": {\n        \"dtype\": \"number\",\n        \"std\": 0.6509686159221912,\n        \"min\": 0.0004256969608359,\n        \"max\": 3.8353196773222433,\n        \"num_unique_values\": 1455,\n        \"samples\": [\n          0.004404685938308,\n          1.826781637620518,\n          1.396199434131862\n        ],\n        \"semantic_type\": \"\",\n        \"description\": \"\"\n      }\n    },\n    {\n      \"column\": \"stem-width\",\n      \"properties\": {\n        \"dtype\": \"number\",\n        \"std\": 782,\n        \"min\": 0,\n        \"max\": 3569,\n        \"num_unique_values\": 3510,\n        \"samples\": [\n          3028,\n          1505,\n          3516\n        ],\n        \"semantic_type\": \"\",\n        \"description\": \"\"\n      }\n    },\n    {\n      \"column\": \"stem-color\",\n      \"properties\": {\n        \"dtype\": \"number\",\n        \"std\": 3,\n        \"min\": 0,\n        \"max\": 12,\n        \"num_unique_values\": 13,\n        \"samples\": [\n          7,\n          4,\n          11\n        ],\n        \"semantic_type\": \"\",\n        \"description\": \"\"\n      }\n    },\n    {\n      \"column\": \"season\",\n      \"properties\": {\n        \"dtype\": \"number\",\n        \"std\": 0.3055935859378124,\n        \"min\": 0.0273721330556057,\n        \"max\": 1.804272708628173,\n        \"num_unique_values\": 4,\n        \"samples\": [\n          0.9431945538974952,\n          0.0273721330556057,\n          1.804272708628173\n        ],\n        \"semantic_type\": \"\",\n        \"description\": \"\"\n      }\n    },\n    {\n      \"column\": \"class\",\n      \"properties\": {\n        \"dtype\": \"number\",\n        \"std\": 0,\n        \"min\": 0,\n        \"max\": 1,\n        \"num_unique_values\": 2,\n        \"samples\": [\n          0,\n          1\n        ],\n        \"semantic_type\": \"\",\n        \"description\": \"\"\n      }\n    }\n  ]\n}",
              "type": "dataframe",
              "variable_name": "df"
            },
            "text/html": [
              "\n",
              "  <div id=\"df-db05b16e-08da-42ed-b8d9-787d255932b3\" class=\"colab-df-container\">\n",
              "    <div>\n",
              "<style scoped>\n",
              "    .dataframe tbody tr th:only-of-type {\n",
              "        vertical-align: middle;\n",
              "    }\n",
              "\n",
              "    .dataframe tbody tr th {\n",
              "        vertical-align: top;\n",
              "    }\n",
              "\n",
              "    .dataframe thead th {\n",
              "        text-align: right;\n",
              "    }\n",
              "</style>\n",
              "<table border=\"1\" class=\"dataframe\">\n",
              "  <thead>\n",
              "    <tr style=\"text-align: right;\">\n",
              "      <th></th>\n",
              "      <th>cap-diameter</th>\n",
              "      <th>cap-shape</th>\n",
              "      <th>gill-attachment</th>\n",
              "      <th>gill-color</th>\n",
              "      <th>stem-height</th>\n",
              "      <th>stem-width</th>\n",
              "      <th>stem-color</th>\n",
              "      <th>season</th>\n",
              "      <th>class</th>\n",
              "    </tr>\n",
              "  </thead>\n",
              "  <tbody>\n",
              "    <tr>\n",
              "      <th>0</th>\n",
              "      <td>1372</td>\n",
              "      <td>2</td>\n",
              "      <td>2</td>\n",
              "      <td>10</td>\n",
              "      <td>3.807467</td>\n",
              "      <td>1545</td>\n",
              "      <td>11</td>\n",
              "      <td>1.804273</td>\n",
              "      <td>1</td>\n",
              "    </tr>\n",
              "    <tr>\n",
              "      <th>1</th>\n",
              "      <td>1461</td>\n",
              "      <td>2</td>\n",
              "      <td>2</td>\n",
              "      <td>10</td>\n",
              "      <td>3.807467</td>\n",
              "      <td>1557</td>\n",
              "      <td>11</td>\n",
              "      <td>1.804273</td>\n",
              "      <td>1</td>\n",
              "    </tr>\n",
              "    <tr>\n",
              "      <th>2</th>\n",
              "      <td>1371</td>\n",
              "      <td>2</td>\n",
              "      <td>2</td>\n",
              "      <td>10</td>\n",
              "      <td>3.612496</td>\n",
              "      <td>1566</td>\n",
              "      <td>11</td>\n",
              "      <td>1.804273</td>\n",
              "      <td>1</td>\n",
              "    </tr>\n",
              "    <tr>\n",
              "      <th>3</th>\n",
              "      <td>1261</td>\n",
              "      <td>6</td>\n",
              "      <td>2</td>\n",
              "      <td>10</td>\n",
              "      <td>3.787572</td>\n",
              "      <td>1566</td>\n",
              "      <td>11</td>\n",
              "      <td>1.804273</td>\n",
              "      <td>1</td>\n",
              "    </tr>\n",
              "    <tr>\n",
              "      <th>4</th>\n",
              "      <td>1305</td>\n",
              "      <td>6</td>\n",
              "      <td>2</td>\n",
              "      <td>10</td>\n",
              "      <td>3.711971</td>\n",
              "      <td>1464</td>\n",
              "      <td>11</td>\n",
              "      <td>0.943195</td>\n",
              "      <td>1</td>\n",
              "    </tr>\n",
              "  </tbody>\n",
              "</table>\n",
              "</div>\n",
              "    <div class=\"colab-df-buttons\">\n",
              "\n",
              "  <div class=\"colab-df-container\">\n",
              "    <button class=\"colab-df-convert\" onclick=\"convertToInteractive('df-db05b16e-08da-42ed-b8d9-787d255932b3')\"\n",
              "            title=\"Convert this dataframe to an interactive table.\"\n",
              "            style=\"display:none;\">\n",
              "\n",
              "  <svg xmlns=\"http://www.w3.org/2000/svg\" height=\"24px\" viewBox=\"0 -960 960 960\">\n",
              "    <path d=\"M120-120v-720h720v720H120Zm60-500h600v-160H180v160Zm220 220h160v-160H400v160Zm0 220h160v-160H400v160ZM180-400h160v-160H180v160Zm440 0h160v-160H620v160ZM180-180h160v-160H180v160Zm440 0h160v-160H620v160Z\"/>\n",
              "  </svg>\n",
              "    </button>\n",
              "\n",
              "  <style>\n",
              "    .colab-df-container {\n",
              "      display:flex;\n",
              "      gap: 12px;\n",
              "    }\n",
              "\n",
              "    .colab-df-convert {\n",
              "      background-color: #E8F0FE;\n",
              "      border: none;\n",
              "      border-radius: 50%;\n",
              "      cursor: pointer;\n",
              "      display: none;\n",
              "      fill: #1967D2;\n",
              "      height: 32px;\n",
              "      padding: 0 0 0 0;\n",
              "      width: 32px;\n",
              "    }\n",
              "\n",
              "    .colab-df-convert:hover {\n",
              "      background-color: #E2EBFA;\n",
              "      box-shadow: 0px 1px 2px rgba(60, 64, 67, 0.3), 0px 1px 3px 1px rgba(60, 64, 67, 0.15);\n",
              "      fill: #174EA6;\n",
              "    }\n",
              "\n",
              "    .colab-df-buttons div {\n",
              "      margin-bottom: 4px;\n",
              "    }\n",
              "\n",
              "    [theme=dark] .colab-df-convert {\n",
              "      background-color: #3B4455;\n",
              "      fill: #D2E3FC;\n",
              "    }\n",
              "\n",
              "    [theme=dark] .colab-df-convert:hover {\n",
              "      background-color: #434B5C;\n",
              "      box-shadow: 0px 1px 3px 1px rgba(0, 0, 0, 0.15);\n",
              "      filter: drop-shadow(0px 1px 2px rgba(0, 0, 0, 0.3));\n",
              "      fill: #FFFFFF;\n",
              "    }\n",
              "  </style>\n",
              "\n",
              "    <script>\n",
              "      const buttonEl =\n",
              "        document.querySelector('#df-db05b16e-08da-42ed-b8d9-787d255932b3 button.colab-df-convert');\n",
              "      buttonEl.style.display =\n",
              "        google.colab.kernel.accessAllowed ? 'block' : 'none';\n",
              "\n",
              "      async function convertToInteractive(key) {\n",
              "        const element = document.querySelector('#df-db05b16e-08da-42ed-b8d9-787d255932b3');\n",
              "        const dataTable =\n",
              "          await google.colab.kernel.invokeFunction('convertToInteractive',\n",
              "                                                    [key], {});\n",
              "        if (!dataTable) return;\n",
              "\n",
              "        const docLinkHtml = 'Like what you see? Visit the ' +\n",
              "          '<a target=\"_blank\" href=https://colab.research.google.com/notebooks/data_table.ipynb>data table notebook</a>'\n",
              "          + ' to learn more about interactive tables.';\n",
              "        element.innerHTML = '';\n",
              "        dataTable['output_type'] = 'display_data';\n",
              "        await google.colab.output.renderOutput(dataTable, element);\n",
              "        const docLink = document.createElement('div');\n",
              "        docLink.innerHTML = docLinkHtml;\n",
              "        element.appendChild(docLink);\n",
              "      }\n",
              "    </script>\n",
              "  </div>\n",
              "\n",
              "\n",
              "<div id=\"df-7a13e37e-e530-41fc-a22c-1e616e6e5f76\">\n",
              "  <button class=\"colab-df-quickchart\" onclick=\"quickchart('df-7a13e37e-e530-41fc-a22c-1e616e6e5f76')\"\n",
              "            title=\"Suggest charts\"\n",
              "            style=\"display:none;\">\n",
              "\n",
              "<svg xmlns=\"http://www.w3.org/2000/svg\" height=\"24px\"viewBox=\"0 0 24 24\"\n",
              "     width=\"24px\">\n",
              "    <g>\n",
              "        <path d=\"M19 3H5c-1.1 0-2 .9-2 2v14c0 1.1.9 2 2 2h14c1.1 0 2-.9 2-2V5c0-1.1-.9-2-2-2zM9 17H7v-7h2v7zm4 0h-2V7h2v10zm4 0h-2v-4h2v4z\"/>\n",
              "    </g>\n",
              "</svg>\n",
              "  </button>\n",
              "\n",
              "<style>\n",
              "  .colab-df-quickchart {\n",
              "      --bg-color: #E8F0FE;\n",
              "      --fill-color: #1967D2;\n",
              "      --hover-bg-color: #E2EBFA;\n",
              "      --hover-fill-color: #174EA6;\n",
              "      --disabled-fill-color: #AAA;\n",
              "      --disabled-bg-color: #DDD;\n",
              "  }\n",
              "\n",
              "  [theme=dark] .colab-df-quickchart {\n",
              "      --bg-color: #3B4455;\n",
              "      --fill-color: #D2E3FC;\n",
              "      --hover-bg-color: #434B5C;\n",
              "      --hover-fill-color: #FFFFFF;\n",
              "      --disabled-bg-color: #3B4455;\n",
              "      --disabled-fill-color: #666;\n",
              "  }\n",
              "\n",
              "  .colab-df-quickchart {\n",
              "    background-color: var(--bg-color);\n",
              "    border: none;\n",
              "    border-radius: 50%;\n",
              "    cursor: pointer;\n",
              "    display: none;\n",
              "    fill: var(--fill-color);\n",
              "    height: 32px;\n",
              "    padding: 0;\n",
              "    width: 32px;\n",
              "  }\n",
              "\n",
              "  .colab-df-quickchart:hover {\n",
              "    background-color: var(--hover-bg-color);\n",
              "    box-shadow: 0 1px 2px rgba(60, 64, 67, 0.3), 0 1px 3px 1px rgba(60, 64, 67, 0.15);\n",
              "    fill: var(--button-hover-fill-color);\n",
              "  }\n",
              "\n",
              "  .colab-df-quickchart-complete:disabled,\n",
              "  .colab-df-quickchart-complete:disabled:hover {\n",
              "    background-color: var(--disabled-bg-color);\n",
              "    fill: var(--disabled-fill-color);\n",
              "    box-shadow: none;\n",
              "  }\n",
              "\n",
              "  .colab-df-spinner {\n",
              "    border: 2px solid var(--fill-color);\n",
              "    border-color: transparent;\n",
              "    border-bottom-color: var(--fill-color);\n",
              "    animation:\n",
              "      spin 1s steps(1) infinite;\n",
              "  }\n",
              "\n",
              "  @keyframes spin {\n",
              "    0% {\n",
              "      border-color: transparent;\n",
              "      border-bottom-color: var(--fill-color);\n",
              "      border-left-color: var(--fill-color);\n",
              "    }\n",
              "    20% {\n",
              "      border-color: transparent;\n",
              "      border-left-color: var(--fill-color);\n",
              "      border-top-color: var(--fill-color);\n",
              "    }\n",
              "    30% {\n",
              "      border-color: transparent;\n",
              "      border-left-color: var(--fill-color);\n",
              "      border-top-color: var(--fill-color);\n",
              "      border-right-color: var(--fill-color);\n",
              "    }\n",
              "    40% {\n",
              "      border-color: transparent;\n",
              "      border-right-color: var(--fill-color);\n",
              "      border-top-color: var(--fill-color);\n",
              "    }\n",
              "    60% {\n",
              "      border-color: transparent;\n",
              "      border-right-color: var(--fill-color);\n",
              "    }\n",
              "    80% {\n",
              "      border-color: transparent;\n",
              "      border-right-color: var(--fill-color);\n",
              "      border-bottom-color: var(--fill-color);\n",
              "    }\n",
              "    90% {\n",
              "      border-color: transparent;\n",
              "      border-bottom-color: var(--fill-color);\n",
              "    }\n",
              "  }\n",
              "</style>\n",
              "\n",
              "  <script>\n",
              "    async function quickchart(key) {\n",
              "      const quickchartButtonEl =\n",
              "        document.querySelector('#' + key + ' button');\n",
              "      quickchartButtonEl.disabled = true;  // To prevent multiple clicks.\n",
              "      quickchartButtonEl.classList.add('colab-df-spinner');\n",
              "      try {\n",
              "        const charts = await google.colab.kernel.invokeFunction(\n",
              "            'suggestCharts', [key], {});\n",
              "      } catch (error) {\n",
              "        console.error('Error during call to suggestCharts:', error);\n",
              "      }\n",
              "      quickchartButtonEl.classList.remove('colab-df-spinner');\n",
              "      quickchartButtonEl.classList.add('colab-df-quickchart-complete');\n",
              "    }\n",
              "    (() => {\n",
              "      let quickchartButtonEl =\n",
              "        document.querySelector('#df-7a13e37e-e530-41fc-a22c-1e616e6e5f76 button');\n",
              "      quickchartButtonEl.style.display =\n",
              "        google.colab.kernel.accessAllowed ? 'block' : 'none';\n",
              "    })();\n",
              "  </script>\n",
              "</div>\n",
              "    </div>\n",
              "  </div>\n"
            ],
            "text/plain": [
              "   cap-diameter  cap-shape  gill-attachment  gill-color  stem-height  \\\n",
              "0          1372          2                2          10     3.807467   \n",
              "1          1461          2                2          10     3.807467   \n",
              "2          1371          2                2          10     3.612496   \n",
              "3          1261          6                2          10     3.787572   \n",
              "4          1305          6                2          10     3.711971   \n",
              "\n",
              "   stem-width  stem-color    season  class  \n",
              "0        1545          11  1.804273      1  \n",
              "1        1557          11  1.804273      1  \n",
              "2        1566          11  1.804273      1  \n",
              "3        1566          11  1.804273      1  \n",
              "4        1464          11  0.943195      1  "
            ]
          },
          "execution_count": 6,
          "metadata": {},
          "output_type": "execute_result"
        }
      ],
      "source": [
        "df = pd.read_csv('https://raw.githubusercontent.com/chankey-uwu/data-mining/main/Tarea%203/mushroom.csv')\n",
        "df.head()"
      ]
    },
    {
      "cell_type": "markdown",
      "metadata": {
        "id": "pvvHJuF-DIL2"
      },
      "source": [
        "### 1.2 Descripción del dataset (2 Pts.)"
      ]
    },
    {
      "cell_type": "markdown",
      "metadata": {
        "id": "TDAUGnnpDIL2"
      },
      "source": [
        "A continuación, presenta una descripción detallada del dataset. Se espera que investigues los datos, y expliques en que consisten las columnas. Explica también cuál es la variable objetivo."
      ]
    },
    {
      "cell_type": "code",
      "execution_count": 8,
      "metadata": {
        "colab": {
          "base_uri": "https://localhost:8080/"
        },
        "id": "iduL19KhDIL2",
        "outputId": "86c09e83-6c3a-44f5-f220-843a77344227"
      },
      "outputs": [
        {
          "name": "stdout",
          "output_type": "stream",
          "text": [
            "El dataset cuenta con 9 columnas y 54035 filas\n"
          ]
        }
      ],
      "source": [
        "print(f'El dataset cuenta con {df.shape[1]} columnas y {df.shape[0]} filas')"
      ]
    },
    {
      "cell_type": "code",
      "execution_count": 13,
      "metadata": {
        "colab": {
          "base_uri": "https://localhost:8080/"
        },
        "id": "1YiU9o3GF20e",
        "outputId": "8af84a90-e5cd-491e-c4fa-48e88a0a2d87"
      },
      "outputs": [
        {
          "data": {
            "text/plain": [
              "cap-diameter         int64\n",
              "cap-shape            int64\n",
              "gill-attachment      int64\n",
              "gill-color           int64\n",
              "stem-height        float64\n",
              "stem-width           int64\n",
              "stem-color           int64\n",
              "season             float64\n",
              "class                int64\n",
              "dtype: object"
            ]
          },
          "execution_count": 13,
          "metadata": {},
          "output_type": "execute_result"
        }
      ],
      "source": [
        "df.dtypes"
      ]
    },
    {
      "cell_type": "code",
      "execution_count": 12,
      "metadata": {
        "colab": {
          "base_uri": "https://localhost:8080/",
          "height": 300
        },
        "id": "jOt86mufFzgx",
        "outputId": "d53ba124-0072-4135-c27b-99aa2a00776c"
      },
      "outputs": [
        {
          "data": {
            "application/vnd.google.colaboratory.intrinsic+json": {
              "summary": "{\n  \"name\": \"df\",\n  \"rows\": 8,\n  \"fields\": [\n    {\n      \"column\": \"cap-diameter\",\n      \"properties\": {\n        \"dtype\": \"number\",\n        \"std\": 18889.7340306714,\n        \"min\": 0.0,\n        \"max\": 54035.0,\n        \"num_unique_values\": 8,\n        \"samples\": [\n          567.2572036642916,\n          525.0,\n          54035.0\n        ],\n        \"semantic_type\": \"\",\n        \"description\": \"\"\n      }\n    },\n    {\n      \"column\": \"cap-shape\",\n      \"properties\": {\n        \"dtype\": \"number\",\n        \"std\": 19102.986764175985,\n        \"min\": 0.0,\n        \"max\": 54035.0,\n        \"num_unique_values\": 7,\n        \"samples\": [\n          54035.0,\n          4.000314610900342,\n          5.0\n        ],\n        \"semantic_type\": \"\",\n        \"description\": \"\"\n      }\n    },\n    {\n      \"column\": \"gill-attachment\",\n      \"properties\": {\n        \"dtype\": \"number\",\n        \"std\": 19103.481221887345,\n        \"min\": 0.0,\n        \"max\": 54035.0,\n        \"num_unique_values\": 7,\n        \"samples\": [\n          54035.0,\n          2.142056074766355,\n          4.0\n        ],\n        \"semantic_type\": \"\",\n        \"description\": \"\"\n      }\n    },\n    {\n      \"column\": \"gill-color\",\n      \"properties\": {\n        \"dtype\": \"number\",\n        \"std\": 19102.008706582714,\n        \"min\": 0.0,\n        \"max\": 54035.0,\n        \"num_unique_values\": 8,\n        \"samples\": [\n          7.32950865179976,\n          8.0,\n          54035.0\n        ],\n        \"semantic_type\": \"\",\n        \"description\": \"\"\n      }\n    },\n    {\n      \"column\": \"stem-height\",\n      \"properties\": {\n        \"dtype\": \"number\",\n        \"std\": 19103.895611961,\n        \"min\": 0.0004256969608359,\n        \"max\": 54035.0,\n        \"num_unique_values\": 8,\n        \"samples\": [\n          0.7591098098505489,\n          0.593295054604175,\n          54035.0\n        ],\n        \"semantic_type\": \"\",\n        \"description\": \"\"\n      }\n    },\n    {\n      \"column\": \"stem-width\",\n      \"properties\": {\n        \"dtype\": \"number\",\n        \"std\": 18717.28909265339,\n        \"min\": 0.0,\n        \"max\": 54035.0,\n        \"num_unique_values\": 8,\n        \"samples\": [\n          1051.0812991579533,\n          923.0,\n          54035.0\n        ],\n        \"semantic_type\": \"\",\n        \"description\": \"\"\n      }\n    },\n    {\n      \"column\": \"stem-color\",\n      \"properties\": {\n        \"dtype\": \"number\",\n        \"std\": 19101.647675499215,\n        \"min\": 0.0,\n        \"max\": 54035.0,\n        \"num_unique_values\": 7,\n        \"samples\": [\n          54035.0,\n          8.418062366984362,\n          11.0\n        ],\n        \"semantic_type\": \"\",\n        \"description\": \"\"\n      }\n    },\n    {\n      \"column\": \"season\",\n      \"properties\": {\n        \"dtype\": \"number\",\n        \"std\": 19103.961278969196,\n        \"min\": 0.0273721330556057,\n        \"max\": 54035.0,\n        \"num_unique_values\": 7,\n        \"samples\": [\n          54035.0,\n          0.9521629527084753,\n          0.9431945538974952\n        ],\n        \"semantic_type\": \"\",\n        \"description\": \"\"\n      }\n    },\n    {\n      \"column\": \"class\",\n      \"properties\": {\n        \"dtype\": \"number\",\n        \"std\": 19104.053072932886,\n        \"min\": 0.0,\n        \"max\": 54035.0,\n        \"num_unique_values\": 5,\n        \"samples\": [\n          0.5491810863329324,\n          1.0,\n          0.4975799460384239\n        ],\n        \"semantic_type\": \"\",\n        \"description\": \"\"\n      }\n    }\n  ]\n}",
              "type": "dataframe"
            },
            "text/html": [
              "\n",
              "  <div id=\"df-27f1fe36-e83b-452e-82a3-412e658e7496\" class=\"colab-df-container\">\n",
              "    <div>\n",
              "<style scoped>\n",
              "    .dataframe tbody tr th:only-of-type {\n",
              "        vertical-align: middle;\n",
              "    }\n",
              "\n",
              "    .dataframe tbody tr th {\n",
              "        vertical-align: top;\n",
              "    }\n",
              "\n",
              "    .dataframe thead th {\n",
              "        text-align: right;\n",
              "    }\n",
              "</style>\n",
              "<table border=\"1\" class=\"dataframe\">\n",
              "  <thead>\n",
              "    <tr style=\"text-align: right;\">\n",
              "      <th></th>\n",
              "      <th>cap-diameter</th>\n",
              "      <th>cap-shape</th>\n",
              "      <th>gill-attachment</th>\n",
              "      <th>gill-color</th>\n",
              "      <th>stem-height</th>\n",
              "      <th>stem-width</th>\n",
              "      <th>stem-color</th>\n",
              "      <th>season</th>\n",
              "      <th>class</th>\n",
              "    </tr>\n",
              "  </thead>\n",
              "  <tbody>\n",
              "    <tr>\n",
              "      <th>count</th>\n",
              "      <td>54035.000000</td>\n",
              "      <td>54035.000000</td>\n",
              "      <td>54035.000000</td>\n",
              "      <td>54035.000000</td>\n",
              "      <td>54035.000000</td>\n",
              "      <td>54035.000000</td>\n",
              "      <td>54035.000000</td>\n",
              "      <td>54035.000000</td>\n",
              "      <td>54035.000000</td>\n",
              "    </tr>\n",
              "    <tr>\n",
              "      <th>mean</th>\n",
              "      <td>567.257204</td>\n",
              "      <td>4.000315</td>\n",
              "      <td>2.142056</td>\n",
              "      <td>7.329509</td>\n",
              "      <td>0.759110</td>\n",
              "      <td>1051.081299</td>\n",
              "      <td>8.418062</td>\n",
              "      <td>0.952163</td>\n",
              "      <td>0.549181</td>\n",
              "    </tr>\n",
              "    <tr>\n",
              "      <th>std</th>\n",
              "      <td>359.883763</td>\n",
              "      <td>2.160505</td>\n",
              "      <td>2.228821</td>\n",
              "      <td>3.200266</td>\n",
              "      <td>0.650969</td>\n",
              "      <td>782.056076</td>\n",
              "      <td>3.262078</td>\n",
              "      <td>0.305594</td>\n",
              "      <td>0.497580</td>\n",
              "    </tr>\n",
              "    <tr>\n",
              "      <th>min</th>\n",
              "      <td>0.000000</td>\n",
              "      <td>0.000000</td>\n",
              "      <td>0.000000</td>\n",
              "      <td>0.000000</td>\n",
              "      <td>0.000426</td>\n",
              "      <td>0.000000</td>\n",
              "      <td>0.000000</td>\n",
              "      <td>0.027372</td>\n",
              "      <td>0.000000</td>\n",
              "    </tr>\n",
              "    <tr>\n",
              "      <th>25%</th>\n",
              "      <td>289.000000</td>\n",
              "      <td>2.000000</td>\n",
              "      <td>0.000000</td>\n",
              "      <td>5.000000</td>\n",
              "      <td>0.270997</td>\n",
              "      <td>421.000000</td>\n",
              "      <td>6.000000</td>\n",
              "      <td>0.888450</td>\n",
              "      <td>0.000000</td>\n",
              "    </tr>\n",
              "    <tr>\n",
              "      <th>50%</th>\n",
              "      <td>525.000000</td>\n",
              "      <td>5.000000</td>\n",
              "      <td>1.000000</td>\n",
              "      <td>8.000000</td>\n",
              "      <td>0.593295</td>\n",
              "      <td>923.000000</td>\n",
              "      <td>11.000000</td>\n",
              "      <td>0.943195</td>\n",
              "      <td>1.000000</td>\n",
              "    </tr>\n",
              "    <tr>\n",
              "      <th>75%</th>\n",
              "      <td>781.000000</td>\n",
              "      <td>6.000000</td>\n",
              "      <td>4.000000</td>\n",
              "      <td>10.000000</td>\n",
              "      <td>1.054858</td>\n",
              "      <td>1523.000000</td>\n",
              "      <td>11.000000</td>\n",
              "      <td>0.943195</td>\n",
              "      <td>1.000000</td>\n",
              "    </tr>\n",
              "    <tr>\n",
              "      <th>max</th>\n",
              "      <td>1891.000000</td>\n",
              "      <td>6.000000</td>\n",
              "      <td>6.000000</td>\n",
              "      <td>11.000000</td>\n",
              "      <td>3.835320</td>\n",
              "      <td>3569.000000</td>\n",
              "      <td>12.000000</td>\n",
              "      <td>1.804273</td>\n",
              "      <td>1.000000</td>\n",
              "    </tr>\n",
              "  </tbody>\n",
              "</table>\n",
              "</div>\n",
              "    <div class=\"colab-df-buttons\">\n",
              "\n",
              "  <div class=\"colab-df-container\">\n",
              "    <button class=\"colab-df-convert\" onclick=\"convertToInteractive('df-27f1fe36-e83b-452e-82a3-412e658e7496')\"\n",
              "            title=\"Convert this dataframe to an interactive table.\"\n",
              "            style=\"display:none;\">\n",
              "\n",
              "  <svg xmlns=\"http://www.w3.org/2000/svg\" height=\"24px\" viewBox=\"0 -960 960 960\">\n",
              "    <path d=\"M120-120v-720h720v720H120Zm60-500h600v-160H180v160Zm220 220h160v-160H400v160Zm0 220h160v-160H400v160ZM180-400h160v-160H180v160Zm440 0h160v-160H620v160ZM180-180h160v-160H180v160Zm440 0h160v-160H620v160Z\"/>\n",
              "  </svg>\n",
              "    </button>\n",
              "\n",
              "  <style>\n",
              "    .colab-df-container {\n",
              "      display:flex;\n",
              "      gap: 12px;\n",
              "    }\n",
              "\n",
              "    .colab-df-convert {\n",
              "      background-color: #E8F0FE;\n",
              "      border: none;\n",
              "      border-radius: 50%;\n",
              "      cursor: pointer;\n",
              "      display: none;\n",
              "      fill: #1967D2;\n",
              "      height: 32px;\n",
              "      padding: 0 0 0 0;\n",
              "      width: 32px;\n",
              "    }\n",
              "\n",
              "    .colab-df-convert:hover {\n",
              "      background-color: #E2EBFA;\n",
              "      box-shadow: 0px 1px 2px rgba(60, 64, 67, 0.3), 0px 1px 3px 1px rgba(60, 64, 67, 0.15);\n",
              "      fill: #174EA6;\n",
              "    }\n",
              "\n",
              "    .colab-df-buttons div {\n",
              "      margin-bottom: 4px;\n",
              "    }\n",
              "\n",
              "    [theme=dark] .colab-df-convert {\n",
              "      background-color: #3B4455;\n",
              "      fill: #D2E3FC;\n",
              "    }\n",
              "\n",
              "    [theme=dark] .colab-df-convert:hover {\n",
              "      background-color: #434B5C;\n",
              "      box-shadow: 0px 1px 3px 1px rgba(0, 0, 0, 0.15);\n",
              "      filter: drop-shadow(0px 1px 2px rgba(0, 0, 0, 0.3));\n",
              "      fill: #FFFFFF;\n",
              "    }\n",
              "  </style>\n",
              "\n",
              "    <script>\n",
              "      const buttonEl =\n",
              "        document.querySelector('#df-27f1fe36-e83b-452e-82a3-412e658e7496 button.colab-df-convert');\n",
              "      buttonEl.style.display =\n",
              "        google.colab.kernel.accessAllowed ? 'block' : 'none';\n",
              "\n",
              "      async function convertToInteractive(key) {\n",
              "        const element = document.querySelector('#df-27f1fe36-e83b-452e-82a3-412e658e7496');\n",
              "        const dataTable =\n",
              "          await google.colab.kernel.invokeFunction('convertToInteractive',\n",
              "                                                    [key], {});\n",
              "        if (!dataTable) return;\n",
              "\n",
              "        const docLinkHtml = 'Like what you see? Visit the ' +\n",
              "          '<a target=\"_blank\" href=https://colab.research.google.com/notebooks/data_table.ipynb>data table notebook</a>'\n",
              "          + ' to learn more about interactive tables.';\n",
              "        element.innerHTML = '';\n",
              "        dataTable['output_type'] = 'display_data';\n",
              "        await google.colab.output.renderOutput(dataTable, element);\n",
              "        const docLink = document.createElement('div');\n",
              "        docLink.innerHTML = docLinkHtml;\n",
              "        element.appendChild(docLink);\n",
              "      }\n",
              "    </script>\n",
              "  </div>\n",
              "\n",
              "\n",
              "<div id=\"df-9fd24e9e-53bd-4f37-a36b-578dd459c6ec\">\n",
              "  <button class=\"colab-df-quickchart\" onclick=\"quickchart('df-9fd24e9e-53bd-4f37-a36b-578dd459c6ec')\"\n",
              "            title=\"Suggest charts\"\n",
              "            style=\"display:none;\">\n",
              "\n",
              "<svg xmlns=\"http://www.w3.org/2000/svg\" height=\"24px\"viewBox=\"0 0 24 24\"\n",
              "     width=\"24px\">\n",
              "    <g>\n",
              "        <path d=\"M19 3H5c-1.1 0-2 .9-2 2v14c0 1.1.9 2 2 2h14c1.1 0 2-.9 2-2V5c0-1.1-.9-2-2-2zM9 17H7v-7h2v7zm4 0h-2V7h2v10zm4 0h-2v-4h2v4z\"/>\n",
              "    </g>\n",
              "</svg>\n",
              "  </button>\n",
              "\n",
              "<style>\n",
              "  .colab-df-quickchart {\n",
              "      --bg-color: #E8F0FE;\n",
              "      --fill-color: #1967D2;\n",
              "      --hover-bg-color: #E2EBFA;\n",
              "      --hover-fill-color: #174EA6;\n",
              "      --disabled-fill-color: #AAA;\n",
              "      --disabled-bg-color: #DDD;\n",
              "  }\n",
              "\n",
              "  [theme=dark] .colab-df-quickchart {\n",
              "      --bg-color: #3B4455;\n",
              "      --fill-color: #D2E3FC;\n",
              "      --hover-bg-color: #434B5C;\n",
              "      --hover-fill-color: #FFFFFF;\n",
              "      --disabled-bg-color: #3B4455;\n",
              "      --disabled-fill-color: #666;\n",
              "  }\n",
              "\n",
              "  .colab-df-quickchart {\n",
              "    background-color: var(--bg-color);\n",
              "    border: none;\n",
              "    border-radius: 50%;\n",
              "    cursor: pointer;\n",
              "    display: none;\n",
              "    fill: var(--fill-color);\n",
              "    height: 32px;\n",
              "    padding: 0;\n",
              "    width: 32px;\n",
              "  }\n",
              "\n",
              "  .colab-df-quickchart:hover {\n",
              "    background-color: var(--hover-bg-color);\n",
              "    box-shadow: 0 1px 2px rgba(60, 64, 67, 0.3), 0 1px 3px 1px rgba(60, 64, 67, 0.15);\n",
              "    fill: var(--button-hover-fill-color);\n",
              "  }\n",
              "\n",
              "  .colab-df-quickchart-complete:disabled,\n",
              "  .colab-df-quickchart-complete:disabled:hover {\n",
              "    background-color: var(--disabled-bg-color);\n",
              "    fill: var(--disabled-fill-color);\n",
              "    box-shadow: none;\n",
              "  }\n",
              "\n",
              "  .colab-df-spinner {\n",
              "    border: 2px solid var(--fill-color);\n",
              "    border-color: transparent;\n",
              "    border-bottom-color: var(--fill-color);\n",
              "    animation:\n",
              "      spin 1s steps(1) infinite;\n",
              "  }\n",
              "\n",
              "  @keyframes spin {\n",
              "    0% {\n",
              "      border-color: transparent;\n",
              "      border-bottom-color: var(--fill-color);\n",
              "      border-left-color: var(--fill-color);\n",
              "    }\n",
              "    20% {\n",
              "      border-color: transparent;\n",
              "      border-left-color: var(--fill-color);\n",
              "      border-top-color: var(--fill-color);\n",
              "    }\n",
              "    30% {\n",
              "      border-color: transparent;\n",
              "      border-left-color: var(--fill-color);\n",
              "      border-top-color: var(--fill-color);\n",
              "      border-right-color: var(--fill-color);\n",
              "    }\n",
              "    40% {\n",
              "      border-color: transparent;\n",
              "      border-right-color: var(--fill-color);\n",
              "      border-top-color: var(--fill-color);\n",
              "    }\n",
              "    60% {\n",
              "      border-color: transparent;\n",
              "      border-right-color: var(--fill-color);\n",
              "    }\n",
              "    80% {\n",
              "      border-color: transparent;\n",
              "      border-right-color: var(--fill-color);\n",
              "      border-bottom-color: var(--fill-color);\n",
              "    }\n",
              "    90% {\n",
              "      border-color: transparent;\n",
              "      border-bottom-color: var(--fill-color);\n",
              "    }\n",
              "  }\n",
              "</style>\n",
              "\n",
              "  <script>\n",
              "    async function quickchart(key) {\n",
              "      const quickchartButtonEl =\n",
              "        document.querySelector('#' + key + ' button');\n",
              "      quickchartButtonEl.disabled = true;  // To prevent multiple clicks.\n",
              "      quickchartButtonEl.classList.add('colab-df-spinner');\n",
              "      try {\n",
              "        const charts = await google.colab.kernel.invokeFunction(\n",
              "            'suggestCharts', [key], {});\n",
              "      } catch (error) {\n",
              "        console.error('Error during call to suggestCharts:', error);\n",
              "      }\n",
              "      quickchartButtonEl.classList.remove('colab-df-spinner');\n",
              "      quickchartButtonEl.classList.add('colab-df-quickchart-complete');\n",
              "    }\n",
              "    (() => {\n",
              "      let quickchartButtonEl =\n",
              "        document.querySelector('#df-9fd24e9e-53bd-4f37-a36b-578dd459c6ec button');\n",
              "      quickchartButtonEl.style.display =\n",
              "        google.colab.kernel.accessAllowed ? 'block' : 'none';\n",
              "    })();\n",
              "  </script>\n",
              "</div>\n",
              "    </div>\n",
              "  </div>\n"
            ],
            "text/plain": [
              "       cap-diameter     cap-shape  gill-attachment    gill-color  \\\n",
              "count  54035.000000  54035.000000     54035.000000  54035.000000   \n",
              "mean     567.257204      4.000315         2.142056      7.329509   \n",
              "std      359.883763      2.160505         2.228821      3.200266   \n",
              "min        0.000000      0.000000         0.000000      0.000000   \n",
              "25%      289.000000      2.000000         0.000000      5.000000   \n",
              "50%      525.000000      5.000000         1.000000      8.000000   \n",
              "75%      781.000000      6.000000         4.000000     10.000000   \n",
              "max     1891.000000      6.000000         6.000000     11.000000   \n",
              "\n",
              "        stem-height    stem-width    stem-color        season         class  \n",
              "count  54035.000000  54035.000000  54035.000000  54035.000000  54035.000000  \n",
              "mean       0.759110   1051.081299      8.418062      0.952163      0.549181  \n",
              "std        0.650969    782.056076      3.262078      0.305594      0.497580  \n",
              "min        0.000426      0.000000      0.000000      0.027372      0.000000  \n",
              "25%        0.270997    421.000000      6.000000      0.888450      0.000000  \n",
              "50%        0.593295    923.000000     11.000000      0.943195      1.000000  \n",
              "75%        1.054858   1523.000000     11.000000      0.943195      1.000000  \n",
              "max        3.835320   3569.000000     12.000000      1.804273      1.000000  "
            ]
          },
          "execution_count": 12,
          "metadata": {},
          "output_type": "execute_result"
        }
      ],
      "source": [
        "df.describe()"
      ]
    },
    {
      "cell_type": "code",
      "execution_count": 20,
      "metadata": {
        "colab": {
          "base_uri": "https://localhost:8080/",
          "height": 545
        },
        "id": "V0gS2y26GuHz",
        "outputId": "5817176a-858d-4720-c073-7f279369f02e"
      },
      "outputs": [
        {
          "data": {
            "text/plain": [
              "<Axes: >"
            ]
          },
          "execution_count": 20,
          "metadata": {},
          "output_type": "execute_result"
        },
        {
          "data": {
            "image/png": "[encoded data removed]",
            "text/plain": [
              "<Figure size 640x480 with 2 Axes>"
            ]
          },
          "metadata": {},
          "output_type": "display_data"
        }
      ],
      "source": [
        "sns.heatmap(df.corr().round(2), annot=True)"
      ]
    },
    {
      "cell_type": "markdown",
      "metadata": {
        "id": "rzFNqI3nDIL2"
      },
      "source": [
        "### 1.3 Limpieza del dataset y Normalización (3 Pts.)"
      ]
    },
    {
      "cell_type": "markdown",
      "metadata": {
        "id": "IIHsJm_vDIL2"
      },
      "source": [
        "Como podrás notar, el dataset entregado se encuentra limpio de antemano. En particular, se usaron las siguientes técnicas de limpieza:\n",
        "- Modal imputation\n",
        "- one-hot encoding\n",
        "- z-score normalization\n",
        "- feature selection\n",
        "\n",
        "Para este item debes:\n",
        "1. Explicar cada una de las técnicas de limpieza que se utilizaron (con palabras).\n",
        "2. Revisar en código si existen valores nulos, si hay columnas poco relevantes y si existe desbalance de clases."
      ]
    },
    {
      "cell_type": "markdown",
      "metadata": {
        "id": "LFgo8SnODIL2"
      },
      "source": []
    },
    {
      "cell_type": "code",
      "execution_count": 21,
      "metadata": {
        "colab": {
          "base_uri": "https://localhost:8080/"
        },
        "id": "s_LlwB2rDIL2",
        "outputId": "4dd45a82-0003-4e36-f639-05e5d09b55cf"
      },
      "outputs": [
        {
          "data": {
            "text/plain": [
              "cap-diameter       0\n",
              "cap-shape          0\n",
              "gill-attachment    0\n",
              "gill-color         0\n",
              "stem-height        0\n",
              "stem-width         0\n",
              "stem-color         0\n",
              "season             0\n",
              "class              0\n",
              "dtype: int64"
            ]
          },
          "execution_count": 21,
          "metadata": {},
          "output_type": "execute_result"
        }
      ],
      "source": [
        "df.isnull().sum()"
      ]
    },
    {
      "cell_type": "code",
      "execution_count": 22,
      "metadata": {
        "colab": {
          "base_uri": "https://localhost:8080/"
        },
        "id": "O155nqNUHnfr",
        "outputId": "e6e6b3a6-b8ac-4af9-deda-6cd15444f2ce"
      },
      "outputs": [
        {
          "data": {
            "text/plain": [
              "class\n",
              "1    29675\n",
              "0    24360\n",
              "Name: count, dtype: int64"
            ]
          },
          "execution_count": 22,
          "metadata": {},
          "output_type": "execute_result"
        }
      ],
      "source": [
        "df['class'].value_counts()"
      ]
    },
    {
      "cell_type": "code",
      "execution_count": 31,
      "metadata": {
        "colab": {
          "base_uri": "https://localhost:8080/",
          "height": 807
        },
        "id": "xyb4a7whKlCY",
        "outputId": "7ba81dd4-4df7-4874-e85d-7466e5685f41"
      },
      "outputs": [
        {
          "data": {
            "image/png": "[encoded data removed]",
            "text/plain": [
              "<Figure size 1200x800 with 1 Axes>"
            ]
          },
          "metadata": {},
          "output_type": "display_data"
        }
      ],
      "source": [
        "df_melted = pd.melt(df[['cap-diameter','stem-width','class']], id_vars=['class'], var_name='attribute', value_name='value')\n",
        "\n",
        "plt.figure(figsize=(12, 8))\n",
        "sns.boxplot(x='attribute', y='value', hue='class', data=df_melted, palette='Set1')\n",
        "plt.title('Boxplot of Attributes for Two Classes')\n",
        "plt.xlabel('Attribute')\n",
        "plt.ylabel('Value')\n",
        "plt.xticks(rotation=45)\n",
        "plt.legend(title='Class', loc='upper right')\n",
        "\n",
        "plt.tight_layout()\n",
        "plt.show()"
      ]
    },
    {
      "cell_type": "code",
      "execution_count": 32,
      "metadata": {
        "colab": {
          "base_uri": "https://localhost:8080/",
          "height": 807
        },
        "id": "xlxbaGG-Kmxd",
        "outputId": "5be43b7f-baaf-4cd3-d532-f16be28ac5e9"
      },
      "outputs": [
        {
          "data": {
            "image/png": "[encoded data removed]",
            "text/plain": [
              "<Figure size 1200x800 with 1 Axes>"
            ]
          },
          "metadata": {},
          "output_type": "display_data"
        }
      ],
      "source": [
        "df_melted = pd.melt(df[['cap-shape','gill-attachment', 'gill-color', 'stem-height', 'stem-color','season','class']], id_vars=['class'], var_name='attribute', value_name='value')\n",
        "\n",
        "plt.figure(figsize=(12, 8))\n",
        "sns.boxplot(x='attribute', y='value', hue='class', data=df_melted, palette='Set1')\n",
        "plt.title('Boxplot of Attributes for Two Classes')\n",
        "plt.xlabel('Attribute')\n",
        "plt.ylabel('Value')\n",
        "plt.xticks(rotation=45)\n",
        "plt.legend(title='Class', loc='upper right')\n",
        "\n",
        "plt.tight_layout()\n",
        "plt.show()"
      ]
    },
    {
      "cell_type": "markdown",
      "metadata": {
        "id": "woLOwsipDIL3"
      },
      "source": [
        "### 1.4 Partición en conjuntos de entrenamiento y prueba (0 Pts.)"
      ]
    },
    {
      "cell_type": "markdown",
      "metadata": {
        "id": "Qi6VM05fDIL3"
      },
      "source": [
        "Parte los datos en conjuntos de entrenamiento y prueba. Utiliza un 80% de los datos para entrenamiento y un 20% para prueba. Utiliza random_state=42."
      ]
    },
    {
      "cell_type": "code",
      "execution_count": 35,
      "metadata": {
        "colab": {
          "base_uri": "https://localhost:8080/"
        },
        "id": "XxsClmPsKunV",
        "outputId": "686524d5-4d0b-45e5-9b8a-600e97506339"
      },
      "outputs": [
        {
          "name": "stdout",
          "output_type": "stream",
          "text": [
            "(43228, 9) (10807, 9)\n"
          ]
        }
      ],
      "source": [
        "X_train, X_test = train_test_split(df, train_size=0.8, random_state=42)\n",
        "\n",
        "print(X_train.shape, X_test.shape)"
      ]
    },
    {
      "cell_type": "markdown",
      "metadata": {
        "id": "dkXitdEiDIL3"
      },
      "source": [
        "## Parte 2: Redes Bayesianas (15 Pts)"
      ]
    },
    {
      "cell_type": "markdown",
      "metadata": {
        "id": "JUfOkHZrDIL3"
      },
      "source": [
        "A continuación debes realizar un análisis de redes bayesianas sobre el dataset, con la finalidad de poder inferir la probabilidad de que un hongo sea venenoso o no, dadas las características que se presentan en el dataset."
      ]
    },
    {
      "cell_type": "markdown",
      "metadata": {
        "id": "P8QU2CMaDIL3"
      },
      "source": [
        "### 2.1 Redes Bayesianas: Explicación Teórica (5 Pts.)"
      ]
    },
    {
      "cell_type": "markdown",
      "metadata": {
        "id": "pewL0JOPDIL3"
      },
      "source": [
        "Investiga sobre `Redes Bayesianas` y entrega una explicación de cómo funciona. `No es necesaria una explicación matemática`, el objetivo es que puedas tomar lo que aprendiste en clases o buscando en internet, y logres exponerlo de manera sintetizada para demostrar tu aprendizaje. Se espera que tu explicación contenga la respuesta a las siguientes preguntas:\n",
        "1. ¿Qué es?\n",
        "2. ¿Para qué sirve?\n",
        "3. ¿Cómo se construye?\n",
        "4. ¿Qué es un nodo y una arista en una red bayesiana?\n",
        "5. ¿Qué es un CPD?\n",
        "\n",
        "**:exclamation:IMPORTANTE:exclamation:** No utilices ChatGPT u otro modelo de lenguaje para responder esta pregunta. Será evaluado que cites al menos 1 recurso bibliográfico que hayas utilizado. Cualquier información que no tenga una referencia clara no se le dará puntaje."
      ]
    },
    {
      "cell_type": "markdown",
      "metadata": {
        "id": "lDf2i9__DIL3"
      },
      "source": []
    },
    {
      "cell_type": "markdown",
      "metadata": {
        "id": "oH5USYeDDIL3"
      },
      "source": [
        "### 2.2 Aprender la estructura de la red bayesiana (3 Pts.)"
      ]
    },
    {
      "cell_type": "markdown",
      "metadata": {
        "id": "Ydb53e5nDIL3"
      },
      "source": [
        "Utiliza la librería pgmpy en Python para aplicar el algoritmo Hill Climb Search con el criterio de puntuación BIC y encontrar la estructura óptima de una red bayesiana. Puedes guiarte de las actividades vistas en clases."
      ]
    },
    {
      "cell_type": "code",
      "execution_count": 39,
      "metadata": {
        "colab": {
          "base_uri": "https://localhost:8080/",
          "height": 86,
          "referenced_widgets": [
            "44bf2092a0224ee8bde656f2b1408039",
            "af6efab9fcbe4f47b79b47f1733cbd38",
            "c9b6361c5f3a4643a4a2197034c5b0e2",
            "30728ce541ae45cfbcb2b2268e8798ba",
            "ed7c34e35064445bb4bae2d5fd977fec",
            "0fc4bc4aea114775a6aaf1ae804f1b6a",
            "5d49c879832949288ee2259f070c7507",
            "cf6b2783da0441b19293dab4b78b00ae",
            "df8494a465434db2a715bb65b1eec29a",
            "dd18a7f9f9104b698429ce0efdad1971",
            "bb472dc160f74d77b7c7ad41b48c1e96"
          ]
        },
        "id": "JmPqESZJDIL3",
        "outputId": "12886825-63de-48e6-dbf4-a927b7f6c604"
      },
      "outputs": [
        {
          "data": {
            "application/vnd.jupyter.widget-view+json": {
              "model_id": "44bf2092a0224ee8bde656f2b1408039",
              "version_major": 2,
              "version_minor": 0
            },
            "text/plain": [
              "  0%|          | 0/1000000 [00:00<?, ?it/s]"
            ]
          },
          "metadata": {},
          "output_type": "display_data"
        },
        {
          "name": "stdout",
          "output_type": "stream",
          "text": [
            "[('gill-attachment', 'cap-shape'), ('gill-attachment', 'stem-color'), ('gill-attachment', 'season'), ('gill-color', 'gill-attachment'), ('gill-color', 'stem-color'), ('gill-color', 'class'), ('stem-color', 'cap-shape'), ('stem-color', 'season'), ('class', 'gill-attachment'), ('class', 'stem-color'), ('class', 'cap-shape'), ('class', 'season')]\n"
          ]
        }
      ],
      "source": [
        "hc = HillClimbSearch(X_train)\n",
        "best_model = hc.estimate(scoring_method=BicScore(X_train))\n",
        "print(best_model.edges())"
      ]
    },
    {
      "cell_type": "markdown",
      "metadata": {
        "id": "nDyRBz9KDIL3"
      },
      "source": [
        "### 2.3 Encontrar la estructura óptima (2 Pts.)"
      ]
    },
    {
      "cell_type": "markdown",
      "metadata": {
        "id": "c-9tx4LqDIL3"
      },
      "source": [
        "En esta sección, debes entrenar la red bayesiana con los datos de entrenamiento usando la estructura óptima encontrada en la sección anterior. Luego, debes imprimir las probabilidades condicionales de la red bayesiana."
      ]
    },
    {
      "cell_type": "code",
      "execution_count": 42,
      "metadata": {
        "colab": {
          "base_uri": "https://localhost:8080/"
        },
        "id": "xK9iOzEHDIL4",
        "outputId": "f8c99b68-d3c6-4bc5-f93b-5c23a4bdb44f"
      },
      "outputs": [
        {
          "name": "stdout",
          "output_type": "stream",
          "text": [
            "+--------------------+-----------------------+-----+-----------------------+\n",
            "| class              | class(0)              | ... | class(1)              |\n",
            "+--------------------+-----------------------+-----+-----------------------+\n",
            "| gill-color         | gill-color(0)         | ... | gill-color(11)        |\n",
            "+--------------------+-----------------------+-----+-----------------------+\n",
            "| gill-attachment(0) | 0.49808895617833576   | ... | 0.3353917477693242    |\n",
            "+--------------------+-----------------------+-----+-----------------------+\n",
            "| gill-attachment(1) | 0.25974314724036796   | ... | 0.22963070136418698   |\n",
            "+--------------------+-----------------------+-----+-----------------------+\n",
            "| gill-attachment(2) | 5.293750198515631e-05 | ... | 0.027676233778827164  |\n",
            "+--------------------+-----------------------+-----+-----------------------+\n",
            "| gill-attachment(3) | 5.293750198515631e-05 | ... | 7.695966236256928e-06 |\n",
            "+--------------------+-----------------------+-----+-----------------------+\n",
            "| gill-attachment(4) | 5.293750198515631e-05 | ... | 0.039829703659124104  |\n",
            "+--------------------+-----------------------+-----+-----------------------+\n",
            "| gill-attachment(5) | 0.24195614657335543   | ... | 0.1825683286362286    |\n",
            "+--------------------+-----------------------+-----+-----------------------+\n",
            "| gill-attachment(6) | 5.293750198515631e-05 | ... | 0.1848955888260727    |\n",
            "+--------------------+-----------------------+-----+-----------------------+\n",
            "+-----------------+---------------------+-----+-----------------------+\n",
            "| class           | class(0)            | ... | class(1)              |\n",
            "+-----------------+---------------------+-----+-----------------------+\n",
            "| gill-attachment | gill-attachment(0)  | ... | gill-attachment(6)    |\n",
            "+-----------------+---------------------+-----+-----------------------+\n",
            "| stem-color      | stem-color(0)       | ... | stem-color(12)        |\n",
            "+-----------------+---------------------+-----+-----------------------+\n",
            "| cap-shape(0)    | 0.14285714285714288 | ... | 9.366084658166007e-06 |\n",
            "+-----------------+---------------------+-----+-----------------------+\n",
            "| cap-shape(1)    | 0.14285714285714288 | ... | 9.366084658166007e-06 |\n",
            "+-----------------+---------------------+-----+-----------------------+\n",
            "| cap-shape(2)    | 0.14285714285714288 | ... | 0.5512858697627196    |\n",
            "+-----------------+---------------------+-----+-----------------------+\n",
            "| cap-shape(3)    | 0.14285714285714288 | ... | 9.366084658166007e-06 |\n",
            "+-----------------+---------------------+-----+-----------------------+\n",
            "| cap-shape(4)    | 0.14285714285714288 | ... | 9.366084658166007e-06 |\n",
            "+-----------------+---------------------+-----+-----------------------+\n",
            "| cap-shape(5)    | 0.14285714285714288 | ... | 0.23865720317472805   |\n",
            "+-----------------+---------------------+-----+-----------------------+\n",
            "| cap-shape(6)    | 0.14285714285714288 | ... | 0.21001946272391966   |\n",
            "+-----------------+---------------------+-----+-----------------------+\n",
            "+-----------------+----------------------+-----+------------------------+\n",
            "| class           | class(0)             | ... | class(1)               |\n",
            "+-----------------+----------------------+-----+------------------------+\n",
            "| gill-attachment | gill-attachment(0)   | ... | gill-attachment(6)     |\n",
            "+-----------------+----------------------+-----+------------------------+\n",
            "| gill-color      | gill-color(0)        | ... | gill-color(11)         |\n",
            "+-----------------+----------------------+-----+------------------------+\n",
            "| stem-color(0)   | 8.17547846987745e-06 | ... | 3.2017930040822863e-06 |\n",
            "+-----------------+----------------------+-----+------------------------+\n",
            "| stem-color(1)   | 8.17547846987745e-06 | ... | 3.2017930040822863e-06 |\n",
            "+-----------------+----------------------+-----+------------------------+\n",
            "| stem-color(2)   | 8.17547846987745e-06 | ... | 3.2017930040822863e-06 |\n",
            "+-----------------+----------------------+-----+------------------------+\n",
            "| stem-color(3)   | 8.17547846987745e-06 | ... | 3.2017930040822863e-06 |\n",
            "+-----------------+----------------------+-----+------------------------+\n",
            "| stem-color(4)   | 8.17547846987745e-06 | ... | 3.2017930040822863e-06 |\n",
            "+-----------------+----------------------+-----+------------------------+\n",
            "| stem-color(5)   | 8.17547846987745e-06 | ... | 3.2017930040822863e-06 |\n",
            "+-----------------+----------------------+-----+------------------------+\n",
            "| stem-color(6)   | 8.17547846987745e-06 | ... | 0.23915408628832144    |\n",
            "+-----------------+----------------------+-----+------------------------+\n",
            "| stem-color(7)   | 8.17547846987745e-06 | ... | 3.2017930040822863e-06 |\n",
            "+-----------------+----------------------+-----+------------------------+\n",
            "| stem-color(8)   | 8.17547846987745e-06 | ... | 3.2017930040822863e-06 |\n",
            "+-----------------+----------------------+-----+------------------------+\n",
            "| stem-color(9)   | 8.17547846987745e-06 | ... | 3.2017930040822863e-06 |\n",
            "+-----------------+----------------------+-----+------------------------+\n",
            "| stem-color(10)  | 8.17547846987745e-06 | ... | 3.2017930040822863e-06 |\n",
            "+-----------------+----------------------+-----+------------------------+\n",
            "| stem-color(11)  | 0.9999018942583615   | ... | 0.3076827023132954     |\n",
            "+-----------------+----------------------+-----+------------------------+\n",
            "| stem-color(12)  | 8.17547846987745e-06 | ... | 0.4531311934683423     |\n",
            "+-----------------+----------------------+-----+------------------------+\n",
            "+----------------------------+-----+------------------------+\n",
            "| class                      | ... | class(1)               |\n",
            "+----------------------------+-----+------------------------+\n",
            "| gill-attachment            | ... | gill-attachment(6)     |\n",
            "+----------------------------+-----+------------------------+\n",
            "| stem-color                 | ... | stem-color(12)         |\n",
            "+----------------------------+-----+------------------------+\n",
            "| season(0.0273721330556057) | ... | 1.6390648151790513e-05 |\n",
            "+----------------------------+-----+------------------------+\n",
            "| season(0.8884502877862838) | ... | 0.1599104414984986     |\n",
            "+----------------------------+-----+------------------------+\n",
            "| season(0.9431945538974952) | ... | 0.8400567772051978     |\n",
            "+----------------------------+-----+------------------------+\n",
            "| season(1.804272708628173)  | ... | 1.6390648151790513e-05 |\n",
            "+----------------------------+-----+------------------------+\n",
            "+----------------+-----------+\n",
            "| gill-color(0)  | 0.0175425 |\n",
            "+----------------+-----------+\n",
            "| gill-color(1)  | 0.019925  |\n",
            "+----------------+-----------+\n",
            "| gill-color(2)  | 0.0560085 |\n",
            "+----------------+-----------+\n",
            "| gill-color(3)  | 0.0717604 |\n",
            "+----------------+-----------+\n",
            "| gill-color(4)  | 0.03304   |\n",
            "+----------------+-----------+\n",
            "| gill-color(5)  | 0.150936  |\n",
            "+----------------+-----------+\n",
            "| gill-color(6)  | 0.0507579 |\n",
            "+----------------+-----------+\n",
            "| gill-color(7)  | 0.100095  |\n",
            "+----------------+-----------+\n",
            "| gill-color(8)  | 0.0232095 |\n",
            "+----------------+-----------+\n",
            "| gill-color(9)  | 0.0190229 |\n",
            "+----------------+-----------+\n",
            "| gill-color(10) | 0.306234  |\n",
            "+----------------+-----------+\n",
            "| gill-color(11) | 0.151468  |\n",
            "+----------------+-----------+\n",
            "+------------+---------------------+-----+---------------------+---------------------+\n",
            "| gill-color | gill-color(0)       | ... | gill-color(10)      | gill-color(11)      |\n",
            "+------------+---------------------+-----+---------------------+---------------------+\n",
            "| class(0)   | 0.7412921656960774  | ... | 0.555855935243874   | 0.40944375866939847 |\n",
            "+------------+---------------------+-----+---------------------+---------------------+\n",
            "| class(1)   | 0.25870783430392263 | ... | 0.44414406475612594 | 0.5905562413306016  |\n",
            "+------------+---------------------+-----+---------------------+---------------------+\n"
          ]
        }
      ],
      "source": [
        "model = BayesianNetwork(best_model.edges())\n",
        "\n",
        "model.fit(X_train, estimator=BayesianEstimator, prior_type=\"BDeu\")\n",
        "for cpd in model.get_cpds():\n",
        "    print(cpd)"
      ]
    },
    {
      "cell_type": "markdown",
      "metadata": {
        "id": "qU-ez1EVDIL4"
      },
      "source": [
        "### 2.4 Inferencia sobre los datos (5 pts)"
      ]
    },
    {
      "cell_type": "markdown",
      "metadata": {
        "id": "oKJfvEjEDIL4"
      },
      "source": [
        "Finalmente, debes realizar inferencia sobre la red bayesiana. Para esto, se te pide que calcules la probabilidad de que los siguientes hongos sean venenosos o no, dadas sus características:\n",
        "\n",
        "- Hongo 1: 'gill-color': 7, 'stem-color': 3, 'cap-shape': 1\n",
        "- Hongo 2: 'stem-color': 2, 'cap-shape': 3\n",
        "- Hongo 3: 'gill-attachment': 2, 'gill-color': 3"
      ]
    },
    {
      "cell_type": "code",
      "execution_count": 44,
      "metadata": {
        "colab": {
          "base_uri": "https://localhost:8080/"
        },
        "id": "Is-sxdfwDIL4",
        "outputId": "9c71fdc0-ab39-4a39-b632-39b83c4e635b"
      },
      "outputs": [
        {
          "name": "stdout",
          "output_type": "stream",
          "text": [
            "+----------+--------------+\n",
            "| class    |   phi(class) |\n",
            "+==========+==============+\n",
            "| class(0) |       0.6478 |\n",
            "+----------+--------------+\n",
            "| class(1) |       0.3522 |\n",
            "+----------+--------------+\n"
          ]
        }
      ],
      "source": [
        "infer = VariableElimination(model)\n",
        "print(infer.query(['class'], evidence={'gill-color': 7, 'stem-color': 3, 'cap-shape': 1}))"
      ]
    },
    {
      "cell_type": "code",
      "execution_count": 45,
      "metadata": {
        "colab": {
          "base_uri": "https://localhost:8080/"
        },
        "id": "mvyjLPtKOlgR",
        "outputId": "411d3ba7-88dc-4174-ff14-2f91c46e8c4d"
      },
      "outputs": [
        {
          "name": "stdout",
          "output_type": "stream",
          "text": [
            "+----------+--------------+\n",
            "| class    |   phi(class) |\n",
            "+==========+==============+\n",
            "| class(0) |       0.0000 |\n",
            "+----------+--------------+\n",
            "| class(1) |       1.0000 |\n",
            "+----------+--------------+\n"
          ]
        }
      ],
      "source": [
        "print(infer.query(['class'], evidence={'stem-color': 2, 'cap-shape': 3}))"
      ]
    },
    {
      "cell_type": "code",
      "execution_count": 46,
      "metadata": {
        "colab": {
          "base_uri": "https://localhost:8080/"
        },
        "id": "mvzkzpGFOmMh",
        "outputId": "f1badbe1-f966-46ec-b353-5d2646a11ef2"
      },
      "outputs": [
        {
          "name": "stdout",
          "output_type": "stream",
          "text": [
            "+----------+--------------+\n",
            "| class    |   phi(class) |\n",
            "+==========+==============+\n",
            "| class(0) |       0.4521 |\n",
            "+----------+--------------+\n",
            "| class(1) |       0.5479 |\n",
            "+----------+--------------+\n"
          ]
        }
      ],
      "source": [
        "print(infer.query(['class'], evidence={'gill-attachment': 2, 'gill-color': 3}))"
      ]
    },
    {
      "cell_type": "markdown",
      "metadata": {
        "id": "n-j-Xf8WDIL4"
      },
      "source": [
        "## Parte 3: Perceptron y MLP (15 Pts.)"
      ]
    },
    {
      "cell_type": "markdown",
      "metadata": {
        "id": "1RG_tp4nDIL4"
      },
      "source": [
        "### 3.1 Perceptron: Explicación teórica (2.5 Pts)"
      ]
    },
    {
      "cell_type": "markdown",
      "metadata": {
        "id": "5FYc7LwsDIL4"
      },
      "source": [
        "Investiga sobre `Perceptron` y entrega una explicación de cómo funciona. `No es necesaria una explicación matemática`, el objetivo es que puedas tomar lo que aprendiste en clases o buscando en internet, y logres exponerlo de manera sintetizada para demostrar tu aprendizaje. Se espera que tu explicación contenga la respuesta a las siguientes preguntas:\n",
        "1. ¿Qué es?\n",
        "2. ¿Para qué sirve?\n",
        "3. ¿Cómo funciona?\n",
        "4. ¿Cuáles son sus ventajas y desventajas?\n",
        "5. ¿En qué situaciones se puede utilizar?\n",
        "6. ¿Qué tipo de problemas puede resolver?\n",
        "7. ¿Qué son los pesos y función de activación?\n",
        "8. ¿Cuáles son las limitaciones del modelo?\n",
        "\n",
        "**:exclamation:IMPORTANTE:exclamation:** No utilices ChatGPT u otro modelo de lenguaje para responder esta pregunta. Será evaluado que cites al menos 1 recurso bibliográfico que hayas utilizado. Cualquier información que no tenga una referencia clara no se le dará puntaje."
      ]
    },
    {
      "cell_type": "markdown",
      "metadata": {
        "id": "0VYAkclcDIL4"
      },
      "source": []
    },
    {
      "cell_type": "markdown",
      "metadata": {
        "id": "HlZUh-GcDIL4"
      },
      "source": [
        "### 3.2 Multi-Layer Perceptron: Explicación teórica (2.5 Pts)"
      ]
    },
    {
      "cell_type": "markdown",
      "metadata": {
        "id": "co6g7GhwDIL5"
      },
      "source": [
        "De forma similar a 2.1, investiga sobre `Multi-Layer Perceptron` y entrega una explicación de cómo funciona. `No es necesaria una explicación matemática`, el objetivo es que puedas tomar lo que aprendiste en clases o buscando en internet, y logres exponerlo de manera sintetizada para demostrar tu aprendizaje. Se espera que tu explicación contenga la respuesta a las siguientes preguntas:\n",
        "1. ¿Qué es?\n",
        "2. ¿Para qué sirve?\n",
        "3. ¿Cómo funciona?\n",
        "4. ¿Cuáles son las diferencias con el Perceptron?\n",
        "5. ¿Cuándo es mejor utilizar un MLP en vez de un Perceptron?\n",
        "\n",
        "**:exclamation:IMPORTANTE:exclamation:** No utilices ChatGPT u otro modelo de lenguaje para responder esta pregunta. Será evaluado que cites al menos 1 recurso bibliográfico que hayas utilizado. Cualquier información que no tenga una referencia clara no se le dará puntaje."
      ]
    },
    {
      "cell_type": "markdown",
      "metadata": {
        "id": "zy4cxHsFDIL5"
      },
      "source": []
    },
    {
      "cell_type": "markdown",
      "metadata": {
        "id": "ehuDY700DIL5"
      },
      "source": [
        "### 3.3 Crear y Entrenar MLP (4 Pts)"
      ]
    },
    {
      "cell_type": "markdown",
      "metadata": {
        "id": "vOzceq-dDIL5"
      },
      "source": [
        "Entrene un clasificador de MLP con los datos de `entrenamiento`. Tienes libertad para modificar los hiperparámetros, cantidad de capas, neuronas, etc. Pero toda decisión debe ser `justificada`. Recuerda que el objetivo es obtener el mejor modelo posible. Para justificar tus decisiones puedes experimentar, buscar documentación o lo que estimes conveniente.\n",
        "\n",
        "**Importante:** No se evalúa que el modelo sea el mejor, si no que se justifiquen las decisiones tomadas. Es decir, no sirve de nada tener un porcentaje de acierto alto si no se justifica por qué se llegó a ese resultado. En esta parte, el código tiene menor relevancia. Lo importante es la justificación."
      ]
    },
    {
      "cell_type": "code",
      "execution_count": null,
      "metadata": {
        "id": "2QpoKJOHDIL5"
      },
      "outputs": [],
      "source": []
    },
    {
      "cell_type": "markdown",
      "metadata": {
        "id": "lF4tB9DPDIL6"
      },
      "source": [
        "### 3.4 Evaluar MLP (3 Pts)"
      ]
    },
    {
      "cell_type": "markdown",
      "metadata": {
        "id": "mcAn_J7LDIL6"
      },
      "source": [
        "Evalúe el modelo con los datos de `testing` y calcule `accuracy`, `precision`, `recall` y `f1-score`. Puedes apoyarte de un reporte de clasificación. Comenta todos los resultados y explica qué significa cada métrica."
      ]
    },
    {
      "cell_type": "code",
      "execution_count": null,
      "metadata": {
        "id": "lcaN9sBxDIL7"
      },
      "outputs": [],
      "source": []
    },
    {
      "cell_type": "markdown",
      "metadata": {
        "id": "Na0CjDLMDIL7"
      },
      "source": [
        "### 3.5 Matriz de Confusión (3 Pts)"
      ]
    },
    {
      "cell_type": "markdown",
      "metadata": {
        "id": "jf-NBzKuDIL7"
      },
      "source": [
        "Genere una `matriz de confusión` normalizada del modelo y responda las preguntas:\n",
        "1. ¿Qué significa cada fila de la matriz?\n",
        "2. ¿Qué significa cada columna de la matriz?\n",
        "3. Explique error `tipo I` y error `tipo II` en base a la matriz de confusión.\n",
        "4. ¿Cuál es el error más grave en este caso?"
      ]
    },
    {
      "cell_type": "code",
      "execution_count": null,
      "metadata": {
        "id": "f6m7gOYVDIL7"
      },
      "outputs": [],
      "source": []
    },
    {
      "cell_type": "markdown",
      "metadata": {
        "id": "rP-ffUtqDIL7"
      },
      "source": []
    },
    {
      "cell_type": "markdown",
      "metadata": {
        "id": "hFJp_84BDIL8"
      },
      "source": [
        "## Parte 4: Regresión Logística (15 Pts.)"
      ]
    },
    {
      "cell_type": "markdown",
      "metadata": {
        "id": "e6RawfZxDIL8"
      },
      "source": [
        "### 4.1 Regresión Logística: Explicación teórica (4.5 pts)"
      ]
    },
    {
      "cell_type": "markdown",
      "metadata": {
        "id": "3bqVV_1nDIL8"
      },
      "source": [
        "Investiga sobre `Regresión Lógistica` y da una explicación con tus propias palabras de cómo funciona. Nuevamente no se espera una demostración matemática, el objetivo es que demuestres tu aprendizaje. Debes responder las siguientes preguntas:\n",
        "1. ¿Qué es?\n",
        "2. ¿Para qué sirve?\n",
        "3. ¿Cómo funciona?\n",
        "4. ¿Qué tipo de problemas resuelve?\n",
        "5. ¿Cuáles son sus ventajas y desventajas?\n",
        "6. ¿Qué es la función sigmoide?\n",
        "7. ¿Qué son los pesos y el sesgo?\n",
        "8. ¿Cuál es la diferencia entre la regresión logística y la regresión lineal?\n",
        "9. ¿En qué situaciones es mejor utilizar regresión logística?\n",
        "\n",
        "**:exclamation:IMPORTANTE:exclamation:** No utilices ChatGPT u otro modelo de lenguaje para responder esta pregunta. Será evaluado que cites al menos 1 recurso bibliográfico que hayas utilizado. Cualquier información que no tenga una referencia clara no se le dará puntaje."
      ]
    },
    {
      "cell_type": "markdown",
      "metadata": {
        "id": "gK2nwrO3DIL8"
      },
      "source": []
    },
    {
      "cell_type": "markdown",
      "metadata": {
        "id": "lgBZASorDIL8"
      },
      "source": [
        "### 4.2 Crear y Entrenar Regresión Logística (6 pts)"
      ]
    },
    {
      "cell_type": "markdown",
      "metadata": {
        "id": "5ZO5IsEpDIL8"
      },
      "source": [
        "Crea y entrena un modelo de regresion logistica con los datos de entrenamiento, donde a traves del parametro `solver`, deberas elegir minimo 3 opciones diferentes de algoritmos de optimizacion, responder `cuales son sus principales diferencias` respecto a como actualizan los parametros del modelo y `dar una hipotesis` sobre cual crees que sera el algoritmo que funcione mejor para este dataset. Recuerda que la idea es que `justifiques tu respuesta`."
      ]
    },
    {
      "cell_type": "code",
      "execution_count": null,
      "metadata": {
        "id": "5vDzmMIMDIL8"
      },
      "outputs": [],
      "source": []
    },
    {
      "cell_type": "markdown",
      "metadata": {
        "id": "7cHjm8gGDIL8"
      },
      "source": []
    },
    {
      "cell_type": "markdown",
      "metadata": {
        "id": "cvZdOonQDIL8"
      },
      "source": [
        "### 4.3 Evaluar Regresión Logística (2.5 pts)"
      ]
    },
    {
      "cell_type": "markdown",
      "metadata": {
        "id": "mk-3073VDIL8"
      },
      "source": [
        "Para cada uno de tus modelos anteriores (del punto 4.2), evalua el modelo con los datos de testing y calcula `accuracy`, `precision`, `recall` y `f1-score`. Puedes apoyarte de un reporte de clasificación. Comenta todos los resultados y explica qué significan."
      ]
    },
    {
      "cell_type": "code",
      "execution_count": null,
      "metadata": {
        "id": "LrAK8QWIDIL8"
      },
      "outputs": [],
      "source": []
    },
    {
      "cell_type": "code",
      "execution_count": null,
      "metadata": {
        "id": "3bKVc6FFDIL9"
      },
      "outputs": [],
      "source": []
    },
    {
      "cell_type": "code",
      "execution_count": null,
      "metadata": {
        "id": "0aMTOrzGDIL9"
      },
      "outputs": [],
      "source": []
    },
    {
      "cell_type": "markdown",
      "metadata": {
        "id": "CkDOKbv-DIL9"
      },
      "source": [
        "### 4.4 Matriz de Confusión (2 pts)"
      ]
    },
    {
      "cell_type": "markdown",
      "metadata": {
        "id": "ElfZykP2DIL9"
      },
      "source": [
        "De los modelos elegidos previamente, escoja el que mejor funcione y genere una `matriz de confusión` del modelo y responda la siguiente pregunta:\n",
        "\n",
        "1. De los errores que puede cometer el modelo, ¿cuál es el más grave en este caso?"
      ]
    },
    {
      "cell_type": "code",
      "execution_count": null,
      "metadata": {
        "id": "K0LT-9b5DIL9"
      },
      "outputs": [],
      "source": []
    },
    {
      "cell_type": "markdown",
      "metadata": {
        "id": "kclnFD67DIL9"
      },
      "source": []
    },
    {
      "cell_type": "markdown",
      "metadata": {
        "id": "HnXiYXoNDIL9"
      },
      "source": [
        "## Parte 5: Comparación de Modelos (10 Pts.)"
      ]
    },
    {
      "cell_type": "markdown",
      "metadata": {
        "id": "K__gZF3qDIL9"
      },
      "source": [
        "1. ¿Cuáles son las ventajas y desventajas de utilizar redes bayesianas en comparación con modelos de regresión logística en el contexto del conjunto de datos Mushroom Dataset? Considera la capacidad de capturar relaciones probabilísticas complejas y la interpretabilidad de los resultados.\n",
        "\n",
        "2. En base a los resultados, ¿qué modelo elegirías para clasificar los hongos entre la R? Justifica tu elección teniendo en cuenta las métricas de evaluación y la gravedad de los errores tipo I y tipo II."
      ]
    },
    {
      "cell_type": "markdown",
      "metadata": {
        "id": "3mC7f1PoDIL9"
      },
      "source": []
    }
  ],
  "metadata": {
    "colab": {
      "provenance": []
    },
    "kernelspec": {
      "display_name": "Python 3",
      "language": "python",
      "name": "python3"
    },
    "language_info": {
      "codemirror_mode": {
        "name": "ipython",
        "version": 3
      },
      "file_extension": ".py",
      "mimetype": "text/x-python",
      "name": "python",
      "nbconvert_exporter": "python",
      "pygments_lexer": "ipython3",
      "version": "3.11.5"
    },
    "widgets": {
      "application/vnd.jupyter.widget-state+json": {
        "0fc4bc4aea114775a6aaf1ae804f1b6a": {
          "model_module": "@jupyter-widgets/base",
          "model_module_version": "1.2.0",
          "model_name": "LayoutModel",
          "state": {
            "_model_module": "@jupyter-widgets/base",
            "_model_module_version": "1.2.0",
            "_model_name": "LayoutModel",
            "_view_count": null,
            "_view_module": "@jupyter-widgets/base",
            "_view_module_version": "1.2.0",
            "_view_name": "LayoutView",
            "align_content": null,
            "align_items": null,
            "align_self": null,
            "border": null,
            "bottom": null,
            "display": null,
            "flex": null,
            "flex_flow": null,
            "grid_area": null,
            "grid_auto_columns": null,
            "grid_auto_flow": null,
            "grid_auto_rows": null,
            "grid_column": null,
            "grid_gap": null,
            "grid_row": null,
            "grid_template_areas": null,
            "grid_template_columns": null,
            "grid_template_rows": null,
            "height": null,
            "justify_content": null,
            "justify_items": null,
            "left": null,
            "margin": null,
            "max_height": null,
            "max_width": null,
            "min_height": null,
            "min_width": null,
            "object_fit": null,
            "object_position": null,
            "order": null,
            "overflow": null,
            "overflow_x": null,
            "overflow_y": null,
            "padding": null,
            "right": null,
            "top": null,
            "visibility": null,
            "width": null
          }
        },
        "30728ce541ae45cfbcb2b2268e8798ba": {
          "model_module": "@jupyter-widgets/controls",
          "model_module_version": "1.5.0",
          "model_name": "HTMLModel",
          "state": {
            "_dom_classes": [],
            "_model_module": "@jupyter-widgets/controls",
            "_model_module_version": "1.5.0",
            "_model_name": "HTMLModel",
            "_view_count": null,
            "_view_module": "@jupyter-widgets/controls",
            "_view_module_version": "1.5.0",
            "_view_name": "HTMLView",
            "description": "",
            "description_tooltip": null,
            "layout": "IPY_MODEL_dd18a7f9f9104b698429ce0efdad1971",
            "placeholder": "​",
            "style": "IPY_MODEL_bb472dc160f74d77b7c7ad41b48c1e96",
            "value": " 12/1000000 [00:02&lt;29:29:41,  9.42it/s]"
          }
        },
        "44bf2092a0224ee8bde656f2b1408039": {
          "model_module": "@jupyter-widgets/controls",
          "model_module_version": "1.5.0",
          "model_name": "HBoxModel",
          "state": {
            "_dom_classes": [],
            "_model_module": "@jupyter-widgets/controls",
            "_model_module_version": "1.5.0",
            "_model_name": "HBoxModel",
            "_view_count": null,
            "_view_module": "@jupyter-widgets/controls",
            "_view_module_version": "1.5.0",
            "_view_name": "HBoxView",
            "box_style": "",
            "children": [
              "IPY_MODEL_af6efab9fcbe4f47b79b47f1733cbd38",
              "IPY_MODEL_c9b6361c5f3a4643a4a2197034c5b0e2",
              "IPY_MODEL_30728ce541ae45cfbcb2b2268e8798ba"
            ],
            "layout": "IPY_MODEL_ed7c34e35064445bb4bae2d5fd977fec"
          }
        },
        "5d49c879832949288ee2259f070c7507": {
          "model_module": "@jupyter-widgets/controls",
          "model_module_version": "1.5.0",
          "model_name": "DescriptionStyleModel",
          "state": {
            "_model_module": "@jupyter-widgets/controls",
            "_model_module_version": "1.5.0",
            "_model_name": "DescriptionStyleModel",
            "_view_count": null,
            "_view_module": "@jupyter-widgets/base",
            "_view_module_version": "1.2.0",
            "_view_name": "StyleView",
            "description_width": ""
          }
        },
        "af6efab9fcbe4f47b79b47f1733cbd38": {
          "model_module": "@jupyter-widgets/controls",
          "model_module_version": "1.5.0",
          "model_name": "HTMLModel",
          "state": {
            "_dom_classes": [],
            "_model_module": "@jupyter-widgets/controls",
            "_model_module_version": "1.5.0",
            "_model_name": "HTMLModel",
            "_view_count": null,
            "_view_module": "@jupyter-widgets/controls",
            "_view_module_version": "1.5.0",
            "_view_name": "HTMLView",
            "description": "",
            "description_tooltip": null,
            "layout": "IPY_MODEL_0fc4bc4aea114775a6aaf1ae804f1b6a",
            "placeholder": "​",
            "style": "IPY_MODEL_5d49c879832949288ee2259f070c7507",
            "value": "  0%"
          }
        },
        "bb472dc160f74d77b7c7ad41b48c1e96": {
          "model_module": "@jupyter-widgets/controls",
          "model_module_version": "1.5.0",
          "model_name": "DescriptionStyleModel",
          "state": {
            "_model_module": "@jupyter-widgets/controls",
            "_model_module_version": "1.5.0",
            "_model_name": "DescriptionStyleModel",
            "_view_count": null,
            "_view_module": "@jupyter-widgets/base",
            "_view_module_version": "1.2.0",
            "_view_name": "StyleView",
            "description_width": ""
          }
        },
        "c9b6361c5f3a4643a4a2197034c5b0e2": {
          "model_module": "@jupyter-widgets/controls",
          "model_module_version": "1.5.0",
          "model_name": "FloatProgressModel",
          "state": {
            "_dom_classes": [],
            "_model_module": "@jupyter-widgets/controls",
            "_model_module_version": "1.5.0",
            "_model_name": "FloatProgressModel",
            "_view_count": null,
            "_view_module": "@jupyter-widgets/controls",
            "_view_module_version": "1.5.0",
            "_view_name": "ProgressView",
            "bar_style": "danger",
            "description": "",
            "description_tooltip": null,
            "layout": "IPY_MODEL_cf6b2783da0441b19293dab4b78b00ae",
            "max": 1000000,
            "min": 0,
            "orientation": "horizontal",
            "style": "IPY_MODEL_df8494a465434db2a715bb65b1eec29a",
            "value": 12
          }
        },
        "cf6b2783da0441b19293dab4b78b00ae": {
          "model_module": "@jupyter-widgets/base",
          "model_module_version": "1.2.0",
          "model_name": "LayoutModel",
          "state": {
            "_model_module": "@jupyter-widgets/base",
            "_model_module_version": "1.2.0",
            "_model_name": "LayoutModel",
            "_view_count": null,
            "_view_module": "@jupyter-widgets/base",
            "_view_module_version": "1.2.0",
            "_view_name": "LayoutView",
            "align_content": null,
            "align_items": null,
            "align_self": null,
            "border": null,
            "bottom": null,
            "display": null,
            "flex": null,
            "flex_flow": null,
            "grid_area": null,
            "grid_auto_columns": null,
            "grid_auto_flow": null,
            "grid_auto_rows": null,
            "grid_column": null,
            "grid_gap": null,
            "grid_row": null,
            "grid_template_areas": null,
            "grid_template_columns": null,
            "grid_template_rows": null,
            "height": null,
            "justify_content": null,
            "justify_items": null,
            "left": null,
            "margin": null,
            "max_height": null,
            "max_width": null,
            "min_height": null,
            "min_width": null,
            "object_fit": null,
            "object_position": null,
            "order": null,
            "overflow": null,
            "overflow_x": null,
            "overflow_y": null,
            "padding": null,
            "right": null,
            "top": null,
            "visibility": null,
            "width": null
          }
        },
        "dd18a7f9f9104b698429ce0efdad1971": {
          "model_module": "@jupyter-widgets/base",
          "model_module_version": "1.2.0",
          "model_name": "LayoutModel",
          "state": {
            "_model_module": "@jupyter-widgets/base",
            "_model_module_version": "1.2.0",
            "_model_name": "LayoutModel",
            "_view_count": null,
            "_view_module": "@jupyter-widgets/base",
            "_view_module_version": "1.2.0",
            "_view_name": "LayoutView",
            "align_content": null,
            "align_items": null,
            "align_self": null,
            "border": null,
            "bottom": null,
            "display": null,
            "flex": null,
            "flex_flow": null,
            "grid_area": null,
            "grid_auto_columns": null,
            "grid_auto_flow": null,
            "grid_auto_rows": null,
            "grid_column": null,
            "grid_gap": null,
            "grid_row": null,
            "grid_template_areas": null,
            "grid_template_columns": null,
            "grid_template_rows": null,
            "height": null,
            "justify_content": null,
            "justify_items": null,
            "left": null,
            "margin": null,
            "max_height": null,
            "max_width": null,
            "min_height": null,
            "min_width": null,
            "object_fit": null,
            "object_position": null,
            "order": null,
            "overflow": null,
            "overflow_x": null,
            "overflow_y": null,
            "padding": null,
            "right": null,
            "top": null,
            "visibility": null,
            "width": null
          }
        },
        "df8494a465434db2a715bb65b1eec29a": {
          "model_module": "@jupyter-widgets/controls",
          "model_module_version": "1.5.0",
          "model_name": "ProgressStyleModel",
          "state": {
            "_model_module": "@jupyter-widgets/controls",
            "_model_module_version": "1.5.0",
            "_model_name": "ProgressStyleModel",
            "_view_count": null,
            "_view_module": "@jupyter-widgets/base",
            "_view_module_version": "1.2.0",
            "_view_name": "StyleView",
            "bar_color": null,
            "description_width": ""
          }
        },
        "ed7c34e35064445bb4bae2d5fd977fec": {
          "model_module": "@jupyter-widgets/base",
          "model_module_version": "1.2.0",
          "model_name": "LayoutModel",
          "state": {
            "_model_module": "@jupyter-widgets/base",
            "_model_module_version": "1.2.0",
            "_model_name": "LayoutModel",
            "_view_count": null,
            "_view_module": "@jupyter-widgets/base",
            "_view_module_version": "1.2.0",
            "_view_name": "LayoutView",
            "align_content": null,
            "align_items": null,
            "align_self": null,
            "border": null,
            "bottom": null,
            "display": null,
            "flex": null,
            "flex_flow": null,
            "grid_area": null,
            "grid_auto_columns": null,
            "grid_auto_flow": null,
            "grid_auto_rows": null,
            "grid_column": null,
            "grid_gap": null,
            "grid_row": null,
            "grid_template_areas": null,
            "grid_template_columns": null,
            "grid_template_rows": null,
            "height": null,
            "justify_content": null,
            "justify_items": null,
            "left": null,
            "margin": null,
            "max_height": null,
            "max_width": null,
            "min_height": null,
            "min_width": null,
            "object_fit": null,
            "object_position": null,
            "order": null,
            "overflow": null,
            "overflow_x": null,
            "overflow_y": null,
            "padding": null,
            "right": null,
            "top": null,
            "visibility": null,
            "width": null
          }
        }
      }
    }
  },
  "nbformat": 4,
  "nbformat_minor": 0
}
